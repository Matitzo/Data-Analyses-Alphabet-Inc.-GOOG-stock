{
 "cells": [
  {
   "cell_type": "markdown",
   "id": "4273fc63-f8bd-4f20-bba9-7d728cf26d6e",
   "metadata": {},
   "source": [
    "# Data of Alphabet Inc. (GOOG) stock\n",
    "This data set contains information about Alphabet Inc. share prices. In this example, I will make predictions of values using linear regression."
   ]
  },
  {
   "cell_type": "code",
   "execution_count": 130,
   "id": "a1bfd5f1-1037-486f-bbdf-a4a4d186885c",
   "metadata": {},
   "outputs": [],
   "source": [
    "import pandas_datareader.data as web\n",
    "import pandas as pd\n",
    "import matplotlib.pyplot as plt\n",
    "import numpy as np\n",
    "from sklearn.linear_model import LinearRegression"
   ]
  },
  {
   "cell_type": "markdown",
   "id": "d009c930-89b3-4cdd-b1af-422c4316c96a",
   "metadata": {},
   "source": [
    "* Loading Data of Alphabet Inc. (GOOG) stock - Historical Data"
   ]
  },
  {
   "cell_type": "code",
   "execution_count": 131,
   "id": "fb661a23-f1eb-416a-8500-49a6c92add45",
   "metadata": {},
   "outputs": [
    {
     "data": {
      "text/html": [
       "<div>\n",
       "<style scoped>\n",
       "    .dataframe tbody tr th:only-of-type {\n",
       "        vertical-align: middle;\n",
       "    }\n",
       "\n",
       "    .dataframe tbody tr th {\n",
       "        vertical-align: top;\n",
       "    }\n",
       "\n",
       "    .dataframe thead th {\n",
       "        text-align: right;\n",
       "    }\n",
       "</style>\n",
       "<table border=\"1\" class=\"dataframe\">\n",
       "  <thead>\n",
       "    <tr style=\"text-align: right;\">\n",
       "      <th></th>\n",
       "      <th>High</th>\n",
       "      <th>Low</th>\n",
       "      <th>Open</th>\n",
       "      <th>Close</th>\n",
       "      <th>Adj Close</th>\n",
       "    </tr>\n",
       "    <tr>\n",
       "      <th>Date</th>\n",
       "      <th></th>\n",
       "      <th></th>\n",
       "      <th></th>\n",
       "      <th></th>\n",
       "      <th></th>\n",
       "    </tr>\n",
       "  </thead>\n",
       "  <tbody>\n",
       "    <tr>\n",
       "      <th>2010-01-04</th>\n",
       "      <td>15.678981</td>\n",
       "      <td>15.547723</td>\n",
       "      <td>15.615220</td>\n",
       "      <td>15.610239</td>\n",
       "      <td>15.610239</td>\n",
       "    </tr>\n",
       "    <tr>\n",
       "      <th>2010-01-05</th>\n",
       "      <td>15.637387</td>\n",
       "      <td>15.480475</td>\n",
       "      <td>15.620949</td>\n",
       "      <td>15.541497</td>\n",
       "      <td>15.541497</td>\n",
       "    </tr>\n",
       "    <tr>\n",
       "      <th>2010-01-06</th>\n",
       "      <td>15.588072</td>\n",
       "      <td>15.102393</td>\n",
       "      <td>15.588072</td>\n",
       "      <td>15.149715</td>\n",
       "      <td>15.149715</td>\n",
       "    </tr>\n",
       "    <tr>\n",
       "      <th>2010-01-07</th>\n",
       "      <td>15.193053</td>\n",
       "      <td>14.760922</td>\n",
       "      <td>15.178109</td>\n",
       "      <td>14.797037</td>\n",
       "      <td>14.797037</td>\n",
       "    </tr>\n",
       "    <tr>\n",
       "      <th>2010-01-08</th>\n",
       "      <td>15.024933</td>\n",
       "      <td>14.672753</td>\n",
       "      <td>14.744733</td>\n",
       "      <td>14.994298</td>\n",
       "      <td>14.994298</td>\n",
       "    </tr>\n",
       "  </tbody>\n",
       "</table>\n",
       "</div>"
      ],
      "text/plain": [
       "                 High        Low       Open      Close  Adj Close\n",
       "Date                                                             \n",
       "2010-01-04  15.678981  15.547723  15.615220  15.610239  15.610239\n",
       "2010-01-05  15.637387  15.480475  15.620949  15.541497  15.541497\n",
       "2010-01-06  15.588072  15.102393  15.588072  15.149715  15.149715\n",
       "2010-01-07  15.193053  14.760922  15.178109  14.797037  14.797037\n",
       "2010-01-08  15.024933  14.672753  14.744733  14.994298  14.994298"
      ]
     },
     "execution_count": 131,
     "metadata": {},
     "output_type": "execute_result"
    }
   ],
   "source": [
    "google = web.DataReader('GOOG', data_source = 'yahoo', start = '1/1/2010', end = '1/1/2022') # loading data\n",
    "google = google.drop('Volume', axis = 1) # deleting column Vol\n",
    "google.head()"
   ]
  },
  {
   "cell_type": "markdown",
   "id": "2aca5945-690b-4501-af16-99c735af2bc0",
   "metadata": {},
   "source": [
    "* Share price chart from 2010 to 2022 "
   ]
  },
  {
   "cell_type": "code",
   "execution_count": 132,
   "id": "328e692e-b050-467d-a898-fbdabed09494",
   "metadata": {},
   "outputs": [
    {
     "data": {
      "text/html": [
       "<div>\n",
       "<style scoped>\n",
       "    .dataframe tbody tr th:only-of-type {\n",
       "        vertical-align: middle;\n",
       "    }\n",
       "\n",
       "    .dataframe tbody tr th {\n",
       "        vertical-align: top;\n",
       "    }\n",
       "\n",
       "    .dataframe thead th {\n",
       "        text-align: right;\n",
       "    }\n",
       "</style>\n",
       "<table border=\"1\" class=\"dataframe\">\n",
       "  <thead>\n",
       "    <tr style=\"text-align: right;\">\n",
       "      <th></th>\n",
       "      <th>High</th>\n",
       "      <th>Low</th>\n",
       "      <th>Open</th>\n",
       "      <th>Close</th>\n",
       "      <th>Adj Close</th>\n",
       "      <th>Index_of_the_day</th>\n",
       "    </tr>\n",
       "    <tr>\n",
       "      <th>Date</th>\n",
       "      <th></th>\n",
       "      <th></th>\n",
       "      <th></th>\n",
       "      <th></th>\n",
       "      <th></th>\n",
       "      <th></th>\n",
       "    </tr>\n",
       "  </thead>\n",
       "  <tbody>\n",
       "    <tr>\n",
       "      <th>2010-01-04</th>\n",
       "      <td>15.678981</td>\n",
       "      <td>15.547723</td>\n",
       "      <td>15.615220</td>\n",
       "      <td>15.610239</td>\n",
       "      <td>15.610239</td>\n",
       "      <td>0</td>\n",
       "    </tr>\n",
       "    <tr>\n",
       "      <th>2010-01-05</th>\n",
       "      <td>15.637387</td>\n",
       "      <td>15.480475</td>\n",
       "      <td>15.620949</td>\n",
       "      <td>15.541497</td>\n",
       "      <td>15.541497</td>\n",
       "      <td>1</td>\n",
       "    </tr>\n",
       "    <tr>\n",
       "      <th>2010-01-06</th>\n",
       "      <td>15.588072</td>\n",
       "      <td>15.102393</td>\n",
       "      <td>15.588072</td>\n",
       "      <td>15.149715</td>\n",
       "      <td>15.149715</td>\n",
       "      <td>2</td>\n",
       "    </tr>\n",
       "    <tr>\n",
       "      <th>2010-01-07</th>\n",
       "      <td>15.193053</td>\n",
       "      <td>14.760922</td>\n",
       "      <td>15.178109</td>\n",
       "      <td>14.797037</td>\n",
       "      <td>14.797037</td>\n",
       "      <td>3</td>\n",
       "    </tr>\n",
       "    <tr>\n",
       "      <th>2010-01-08</th>\n",
       "      <td>15.024933</td>\n",
       "      <td>14.672753</td>\n",
       "      <td>14.744733</td>\n",
       "      <td>14.994298</td>\n",
       "      <td>14.994298</td>\n",
       "      <td>4</td>\n",
       "    </tr>\n",
       "  </tbody>\n",
       "</table>\n",
       "</div>"
      ],
      "text/plain": [
       "                 High        Low       Open      Close  Adj Close  \\\n",
       "Date                                                                \n",
       "2010-01-04  15.678981  15.547723  15.615220  15.610239  15.610239   \n",
       "2010-01-05  15.637387  15.480475  15.620949  15.541497  15.541497   \n",
       "2010-01-06  15.588072  15.102393  15.588072  15.149715  15.149715   \n",
       "2010-01-07  15.193053  14.760922  15.178109  14.797037  14.797037   \n",
       "2010-01-08  15.024933  14.672753  14.744733  14.994298  14.994298   \n",
       "\n",
       "            Index_of_the_day  \n",
       "Date                          \n",
       "2010-01-04                 0  \n",
       "2010-01-05                 1  \n",
       "2010-01-06                 2  \n",
       "2010-01-07                 3  \n",
       "2010-01-08                 4  "
      ]
     },
     "execution_count": 132,
     "metadata": {},
     "output_type": "execute_result"
    }
   ],
   "source": [
    "google['Index_of_the_day'] = range(0, len(google.index.values))\n",
    "google.head()"
   ]
  },
  {
   "cell_type": "code",
   "execution_count": 133,
   "id": "7ebab06e-b9ee-4f51-9b3f-d80ff70c6961",
   "metadata": {},
   "outputs": [
    {
     "data": {
      "text/plain": [
       "[<matplotlib.lines.Line2D at 0x25eca8272e0>]"
      ]
     },
     "execution_count": 133,
     "metadata": {},
     "output_type": "execute_result"
    },
    {
     "data": {
      "image/png": "[encoded data removed]",
      "text/plain": [
       "<Figure size 432x288 with 1 Axes>"
      ]
     },
     "metadata": {
      "needs_background": "light"
     },
     "output_type": "display_data"
    }
   ],
   "source": [
    "fig = plt.figure()\n",
    "ax1 = fig.add_subplot()\n",
    "ax1.set_xlabel('Index of the day')\n",
    "ax1.set_ylabel('Price')\n",
    "ax1.set_title('Stock 2010 - 2022')\n",
    "ax1.plot('Index_of_the_day', 'Open', data = google)"
   ]
  },
  {
   "cell_type": "markdown",
   "id": "979dec27-3116-41b7-8aee-5290b80f7350",
   "metadata": {},
   "source": [
    "### Smoothing the graph\n",
    "* First I smoothed the graph by selecting only 1/100 of data (sampling th data set)."
   ]
  },
  {
   "cell_type": "code",
   "execution_count": 134,
   "id": "d1a7df19-655e-4a2d-afbb-bfa11cbe6262",
   "metadata": {},
   "outputs": [
    {
     "data": {
      "text/html": [
       "<div>\n",
       "<style scoped>\n",
       "    .dataframe tbody tr th:only-of-type {\n",
       "        vertical-align: middle;\n",
       "    }\n",
       "\n",
       "    .dataframe tbody tr th {\n",
       "        vertical-align: top;\n",
       "    }\n",
       "\n",
       "    .dataframe thead th {\n",
       "        text-align: right;\n",
       "    }\n",
       "</style>\n",
       "<table border=\"1\" class=\"dataframe\">\n",
       "  <thead>\n",
       "    <tr style=\"text-align: right;\">\n",
       "      <th></th>\n",
       "      <th>High</th>\n",
       "      <th>Low</th>\n",
       "      <th>Open</th>\n",
       "      <th>Close</th>\n",
       "      <th>Adj Close</th>\n",
       "      <th>Index_of_the_day</th>\n",
       "    </tr>\n",
       "    <tr>\n",
       "      <th>Date</th>\n",
       "      <th></th>\n",
       "      <th></th>\n",
       "      <th></th>\n",
       "      <th></th>\n",
       "      <th></th>\n",
       "      <th></th>\n",
       "    </tr>\n",
       "  </thead>\n",
       "  <tbody>\n",
       "    <tr>\n",
       "      <th>2012-05-02</th>\n",
       "      <td>15.145979</td>\n",
       "      <td>14.959179</td>\n",
       "      <td>14.973874</td>\n",
       "      <td>15.124809</td>\n",
       "      <td>15.124809</td>\n",
       "      <td>587</td>\n",
       "    </tr>\n",
       "    <tr>\n",
       "      <th>2012-02-06</th>\n",
       "      <td>15.213725</td>\n",
       "      <td>14.794795</td>\n",
       "      <td>14.819702</td>\n",
       "      <td>15.170388</td>\n",
       "      <td>15.170388</td>\n",
       "      <td>527</td>\n",
       "    </tr>\n",
       "    <tr>\n",
       "      <th>2020-06-04</th>\n",
       "      <td>71.947998</td>\n",
       "      <td>70.236504</td>\n",
       "      <td>71.519997</td>\n",
       "      <td>70.609001</td>\n",
       "      <td>70.609001</td>\n",
       "      <td>2622</td>\n",
       "    </tr>\n",
       "    <tr>\n",
       "      <th>2014-08-18</th>\n",
       "      <td>29.145481</td>\n",
       "      <td>28.721146</td>\n",
       "      <td>28.726631</td>\n",
       "      <td>29.028303</td>\n",
       "      <td>29.028303</td>\n",
       "      <td>1163</td>\n",
       "    </tr>\n",
       "    <tr>\n",
       "      <th>2014-09-18</th>\n",
       "      <td>29.396292</td>\n",
       "      <td>29.169914</td>\n",
       "      <td>29.269640</td>\n",
       "      <td>29.382830</td>\n",
       "      <td>29.382830</td>\n",
       "      <td>1185</td>\n",
       "    </tr>\n",
       "  </tbody>\n",
       "</table>\n",
       "</div>"
      ],
      "text/plain": [
       "                 High        Low       Open      Close  Adj Close  \\\n",
       "Date                                                                \n",
       "2012-05-02  15.145979  14.959179  14.973874  15.124809  15.124809   \n",
       "2012-02-06  15.213725  14.794795  14.819702  15.170388  15.170388   \n",
       "2020-06-04  71.947998  70.236504  71.519997  70.609001  70.609001   \n",
       "2014-08-18  29.145481  28.721146  28.726631  29.028303  29.028303   \n",
       "2014-09-18  29.396292  29.169914  29.269640  29.382830  29.382830   \n",
       "\n",
       "            Index_of_the_day  \n",
       "Date                          \n",
       "2012-05-02               587  \n",
       "2012-02-06               527  \n",
       "2020-06-04              2622  \n",
       "2014-08-18              1163  \n",
       "2014-09-18              1185  "
      ]
     },
     "execution_count": 134,
     "metadata": {},
     "output_type": "execute_result"
    }
   ],
   "source": [
    "one_hundred = google.sample(frac = 0.1, random_state = np.random.randint(100))\n",
    "one_hundred.head()"
   ]
  },
  {
   "cell_type": "code",
   "execution_count": 135,
   "id": "8147c6ee-b54c-47d5-8e38-2ce01361eea3",
   "metadata": {},
   "outputs": [
    {
     "data": {
      "text/html": [
       "<div>\n",
       "<style scoped>\n",
       "    .dataframe tbody tr th:only-of-type {\n",
       "        vertical-align: middle;\n",
       "    }\n",
       "\n",
       "    .dataframe tbody tr th {\n",
       "        vertical-align: top;\n",
       "    }\n",
       "\n",
       "    .dataframe thead th {\n",
       "        text-align: right;\n",
       "    }\n",
       "</style>\n",
       "<table border=\"1\" class=\"dataframe\">\n",
       "  <thead>\n",
       "    <tr style=\"text-align: right;\">\n",
       "      <th></th>\n",
       "      <th>High</th>\n",
       "      <th>Low</th>\n",
       "      <th>Open</th>\n",
       "      <th>Close</th>\n",
       "      <th>Adj Close</th>\n",
       "      <th>Index_of_the_day</th>\n",
       "    </tr>\n",
       "  </thead>\n",
       "  <tbody>\n",
       "    <tr>\n",
       "      <th>2010-01-14</th>\n",
       "      <td>14.799528</td>\n",
       "      <td>14.515841</td>\n",
       "      <td>14.542989</td>\n",
       "      <td>14.691184</td>\n",
       "      <td>14.691184</td>\n",
       "      <td>8</td>\n",
       "    </tr>\n",
       "    <tr>\n",
       "      <th>2010-01-25</th>\n",
       "      <td>13.695665</td>\n",
       "      <td>13.337757</td>\n",
       "      <td>13.613722</td>\n",
       "      <td>13.449588</td>\n",
       "      <td>13.449588</td>\n",
       "      <td>14</td>\n",
       "    </tr>\n",
       "    <tr>\n",
       "      <th>2010-01-26</th>\n",
       "      <td>13.688691</td>\n",
       "      <td>13.357184</td>\n",
       "      <td>13.399027</td>\n",
       "      <td>13.509862</td>\n",
       "      <td>13.509862</td>\n",
       "      <td>15</td>\n",
       "    </tr>\n",
       "    <tr>\n",
       "      <th>2010-01-27</th>\n",
       "      <td>13.640123</td>\n",
       "      <td>13.332775</td>\n",
       "      <td>13.481219</td>\n",
       "      <td>13.501892</td>\n",
       "      <td>13.501892</td>\n",
       "      <td>16</td>\n",
       "    </tr>\n",
       "    <tr>\n",
       "      <th>2010-01-29</th>\n",
       "      <td>13.474245</td>\n",
       "      <td>13.091181</td>\n",
       "      <td>13.411979</td>\n",
       "      <td>13.199027</td>\n",
       "      <td>13.199027</td>\n",
       "      <td>18</td>\n",
       "    </tr>\n",
       "  </tbody>\n",
       "</table>\n",
       "</div>"
      ],
      "text/plain": [
       "                 High        Low       Open      Close  Adj Close  \\\n",
       "2010-01-14  14.799528  14.515841  14.542989  14.691184  14.691184   \n",
       "2010-01-25  13.695665  13.337757  13.613722  13.449588  13.449588   \n",
       "2010-01-26  13.688691  13.357184  13.399027  13.509862  13.509862   \n",
       "2010-01-27  13.640123  13.332775  13.481219  13.501892  13.501892   \n",
       "2010-01-29  13.474245  13.091181  13.411979  13.199027  13.199027   \n",
       "\n",
       "            Index_of_the_day  \n",
       "2010-01-14                 8  \n",
       "2010-01-25                14  \n",
       "2010-01-26                15  \n",
       "2010-01-27                16  \n",
       "2010-01-29                18  "
      ]
     },
     "execution_count": 135,
     "metadata": {},
     "output_type": "execute_result"
    }
   ],
   "source": [
    "one_hundred.index.name = None # deleting name of the index (Date)\n",
    "one_hundred = one_hundred.sort_values(by='Index_of_the_day', ascending = True)\n",
    "one_hundred.head()"
   ]
  },
  {
   "cell_type": "code",
   "execution_count": 136,
   "id": "de09736d-f6d6-4bc9-a2d3-1912076adba9",
   "metadata": {},
   "outputs": [
    {
     "data": {
      "text/plain": [
       "Text(0, 0.5, 'Price')"
      ]
     },
     "execution_count": 136,
     "metadata": {},
     "output_type": "execute_result"
    },
    {
     "data": {
      "image/png": "[encoded data removed]",
      "text/plain": [
       "<Figure size 432x288 with 1 Axes>"
      ]
     },
     "metadata": {
      "needs_background": "light"
     },
     "output_type": "display_data"
    }
   ],
   "source": [
    "axes = one_hundred.plot('Index_of_the_day', 'Open', legend = False, title = 'Sampled dataset')\n",
    "axes.set_ylabel('Price')"
   ]
  },
  {
   "cell_type": "code",
   "execution_count": 137,
   "id": "5a56a13e-8f39-4da5-8393-6fc4caa05774",
   "metadata": {},
   "outputs": [
    {
     "data": {
      "text/plain": [
       "Text(0.5, 1.0, 'Sampled Plot')"
      ]
     },
     "execution_count": 137,
     "metadata": {},
     "output_type": "execute_result"
    },
    {
     "data": {
      "image/png": "[encoded data removed]",
      "text/plain": [
       "<Figure size 720x360 with 2 Axes>"
      ]
     },
     "metadata": {
      "needs_background": "light"
     },
     "output_type": "display_data"
    }
   ],
   "source": [
    "fig, axes = plt.subplots(nrows = 1, ncols = 2, figsize = (10, 5))\n",
    "axes[0].plot('Index_of_the_day', 'Open', data = google)\n",
    "axes[0].set_title('Orginal plot')\n",
    "axes[1].plot('Index_of_the_day', 'Open', data = one_hundred)\n",
    "axes[1].set_title('Sampled Plot')"
   ]
  },
  {
   "cell_type": "markdown",
   "id": "61c46b65-b2e2-4184-9e41-cecc45078a58",
   "metadata": {},
   "source": [
    "* as we can see sampling the data helped smooth the graph. However, I decided to smooth it even more to better fit a linear \n",
    "regression. To do this I used rolling mean "
   ]
  },
  {
   "cell_type": "code",
   "execution_count": 138,
   "id": "6e7a8e73-169b-41f0-935a-cd8525e2cd23",
   "metadata": {},
   "outputs": [
    {
     "data": {
      "text/html": [
       "<div>\n",
       "<style scoped>\n",
       "    .dataframe tbody tr th:only-of-type {\n",
       "        vertical-align: middle;\n",
       "    }\n",
       "\n",
       "    .dataframe tbody tr th {\n",
       "        vertical-align: top;\n",
       "    }\n",
       "\n",
       "    .dataframe thead th {\n",
       "        text-align: right;\n",
       "    }\n",
       "</style>\n",
       "<table border=\"1\" class=\"dataframe\">\n",
       "  <thead>\n",
       "    <tr style=\"text-align: right;\">\n",
       "      <th></th>\n",
       "      <th>Date</th>\n",
       "      <th>High</th>\n",
       "      <th>Low</th>\n",
       "      <th>Open</th>\n",
       "      <th>Close</th>\n",
       "      <th>Adj Close</th>\n",
       "      <th>Index_of_the_day</th>\n",
       "    </tr>\n",
       "  </thead>\n",
       "  <tbody>\n",
       "    <tr>\n",
       "      <th>0</th>\n",
       "      <td>2010-01-04</td>\n",
       "      <td>15.678981</td>\n",
       "      <td>15.547723</td>\n",
       "      <td>15.615220</td>\n",
       "      <td>15.610239</td>\n",
       "      <td>15.610239</td>\n",
       "      <td>0</td>\n",
       "    </tr>\n",
       "    <tr>\n",
       "      <th>1</th>\n",
       "      <td>2010-01-05</td>\n",
       "      <td>15.637387</td>\n",
       "      <td>15.480475</td>\n",
       "      <td>15.620949</td>\n",
       "      <td>15.541497</td>\n",
       "      <td>15.541497</td>\n",
       "      <td>1</td>\n",
       "    </tr>\n",
       "    <tr>\n",
       "      <th>2</th>\n",
       "      <td>2010-01-06</td>\n",
       "      <td>15.588072</td>\n",
       "      <td>15.102393</td>\n",
       "      <td>15.588072</td>\n",
       "      <td>15.149715</td>\n",
       "      <td>15.149715</td>\n",
       "      <td>2</td>\n",
       "    </tr>\n",
       "    <tr>\n",
       "      <th>3</th>\n",
       "      <td>2010-01-07</td>\n",
       "      <td>15.193053</td>\n",
       "      <td>14.760922</td>\n",
       "      <td>15.178109</td>\n",
       "      <td>14.797037</td>\n",
       "      <td>14.797037</td>\n",
       "      <td>3</td>\n",
       "    </tr>\n",
       "    <tr>\n",
       "      <th>4</th>\n",
       "      <td>2010-01-08</td>\n",
       "      <td>15.024933</td>\n",
       "      <td>14.672753</td>\n",
       "      <td>14.744733</td>\n",
       "      <td>14.994298</td>\n",
       "      <td>14.994298</td>\n",
       "      <td>4</td>\n",
       "    </tr>\n",
       "  </tbody>\n",
       "</table>\n",
       "</div>"
      ],
      "text/plain": [
       "        Date       High        Low       Open      Close  Adj Close  \\\n",
       "0 2010-01-04  15.678981  15.547723  15.615220  15.610239  15.610239   \n",
       "1 2010-01-05  15.637387  15.480475  15.620949  15.541497  15.541497   \n",
       "2 2010-01-06  15.588072  15.102393  15.588072  15.149715  15.149715   \n",
       "3 2010-01-07  15.193053  14.760922  15.178109  14.797037  14.797037   \n",
       "4 2010-01-08  15.024933  14.672753  14.744733  14.994298  14.994298   \n",
       "\n",
       "   Index_of_the_day  \n",
       "0                 0  \n",
       "1                 1  \n",
       "2                 2  \n",
       "3                 3  \n",
       "4                 4  "
      ]
     },
     "execution_count": 138,
     "metadata": {},
     "output_type": "execute_result"
    }
   ],
   "source": [
    "google = google.reset_index() # adding index as new col\n",
    "google.head()"
   ]
  },
  {
   "cell_type": "markdown",
   "id": "71bcabc6-aad2-443d-a456-1359631bf19b",
   "metadata": {},
   "source": [
    "* I am calculating mean value every 200 position and assigning mean value to position starting from 199 row. Before that row there are NaNs. In row 199 we have mean values from 0 - 199, in 200 row we have mean values from 1 - 200 etc."
   ]
  },
  {
   "cell_type": "code",
   "execution_count": 139,
   "id": "09acfe82-6fd8-434d-a638-8a2bd715c07a",
   "metadata": {},
   "outputs": [
    {
     "data": {
      "text/plain": [
       "Date                2010-10-18 00:00:00\n",
       "High                          15.434398\n",
       "Low                           14.957685\n",
       "Open                          14.957685\n",
       "Close                         15.385083\n",
       "Adj Close                     15.385083\n",
       "Index_of_the_day                    199\n",
       "Rolling_Mean                  12.940028\n",
       "Name: 199, dtype: object"
      ]
     },
     "execution_count": 139,
     "metadata": {},
     "output_type": "execute_result"
    }
   ],
   "source": [
    "google['Rolling_Mean'] = google['Open'].rolling(window = 200).mean() \n",
    "google.iloc[199]"
   ]
  },
  {
   "cell_type": "markdown",
   "id": "9de22f18-d195-49a9-b523-09298fbbf0b9",
   "metadata": {},
   "source": [
    "* copmering all 3 charts. We can see how the degree of smoothing has improved"
   ]
  },
  {
   "cell_type": "code",
   "execution_count": 140,
   "id": "df26100c-bc5f-4699-bb5f-5cdef36331f7",
   "metadata": {},
   "outputs": [
    {
     "data": {
      "text/plain": [
       "Text(0.5, 1.0, 'Smoothed Plot (Rolling_Mean)')"
      ]
     },
     "execution_count": 140,
     "metadata": {},
     "output_type": "execute_result"
    },
    {
     "data": {
      "image/png": "[encoded data removed]",
      "text/plain": [
       "<Figure size 720x360 with 3 Axes>"
      ]
     },
     "metadata": {
      "needs_background": "light"
     },
     "output_type": "display_data"
    }
   ],
   "source": [
    "fig, axes = plt.subplots(nrows = 1, ncols = 3, figsize = (10, 5))\n",
    "axes[0].plot('Index_of_the_day', 'Open', data = google)\n",
    "axes[0].set_title('Orginal plot')\n",
    "axes[1].plot('Index_of_the_day', 'Open', data = one_hundred)\n",
    "axes[1].set_title('Sampled Plot')\n",
    "axes[2].plot('Index_of_the_day', 'Rolling_Mean', data = google)\n",
    "axes[2].set_title('Smoothed Plot (Rolling_Mean)')"
   ]
  },
  {
   "cell_type": "markdown",
   "id": "7b098073-0050-415e-a3b4-bf610dc04bd8",
   "metadata": {},
   "source": [
    "* here a superimposition of the original graph and the smoothed graph using rolling mean"
   ]
  },
  {
   "cell_type": "code",
   "execution_count": 141,
   "id": "d9b66742-aa03-460e-8e86-6f532a4d0843",
   "metadata": {},
   "outputs": [
    {
     "data": {
      "text/plain": [
       "<matplotlib.legend.Legend at 0x25eca517ee0>"
      ]
     },
     "execution_count": 141,
     "metadata": {},
     "output_type": "execute_result"
    },
    {
     "data": {
      "image/png": "[encoded data removed]",
      "text/plain": [
       "<Figure size 432x288 with 1 Axes>"
      ]
     },
     "metadata": {
      "needs_background": "light"
     },
     "output_type": "display_data"
    }
   ],
   "source": [
    "fig = plt.figure()\n",
    "ax = fig.add_subplot()\n",
    "ax.plot(google['Date'], google['Rolling_Mean'], color = (0,0,0), linewidth = 3, label = 'Smoothed')\n",
    "ax.plot(google['Date'], google['Open'], color = (0,1,0), label = 'Orginal')\n",
    "ax.set_title('Orginal vs Smoothed Plot')\n",
    "ax.set_xlabel('Date')\n",
    "ax.set_ylabel('Price')\n",
    "ax.legend(loc = 'upper left')"
   ]
  },
  {
   "cell_type": "markdown",
   "id": "95e41969-5ef8-4d21-9e88-a3f9a37e0bb1",
   "metadata": {},
   "source": [
    "### Linear regression - Predictions\n",
    "Before running the regression, I trimmed the graph slightly."
   ]
  },
  {
   "cell_type": "code",
   "execution_count": 142,
   "id": "7b961412-da3e-485c-ac51-4362929065ea",
   "metadata": {},
   "outputs": [
    {
     "data": {
      "text/html": [
       "<div>\n",
       "<style scoped>\n",
       "    .dataframe tbody tr th:only-of-type {\n",
       "        vertical-align: middle;\n",
       "    }\n",
       "\n",
       "    .dataframe tbody tr th {\n",
       "        vertical-align: top;\n",
       "    }\n",
       "\n",
       "    .dataframe thead th {\n",
       "        text-align: right;\n",
       "    }\n",
       "</style>\n",
       "<table border=\"1\" class=\"dataframe\">\n",
       "  <thead>\n",
       "    <tr style=\"text-align: right;\">\n",
       "      <th></th>\n",
       "      <th>Date</th>\n",
       "      <th>High</th>\n",
       "      <th>Low</th>\n",
       "      <th>Open</th>\n",
       "      <th>Close</th>\n",
       "      <th>Adj Close</th>\n",
       "      <th>Index_of_the_day</th>\n",
       "      <th>Rolling_Mean</th>\n",
       "    </tr>\n",
       "  </thead>\n",
       "  <tbody>\n",
       "    <tr>\n",
       "      <th>500</th>\n",
       "      <td>2011-12-27</td>\n",
       "      <td>16.052082</td>\n",
       "      <td>15.740999</td>\n",
       "      <td>15.742244</td>\n",
       "      <td>15.946479</td>\n",
       "      <td>15.946479</td>\n",
       "      <td>500</td>\n",
       "      <td>13.888971</td>\n",
       "    </tr>\n",
       "    <tr>\n",
       "      <th>501</th>\n",
       "      <td>2011-12-28</td>\n",
       "      <td>16.064785</td>\n",
       "      <td>15.892929</td>\n",
       "      <td>16.008745</td>\n",
       "      <td>15.932780</td>\n",
       "      <td>15.932780</td>\n",
       "      <td>501</td>\n",
       "      <td>13.899587</td>\n",
       "    </tr>\n",
       "    <tr>\n",
       "      <th>502</th>\n",
       "      <td>2011-12-29</td>\n",
       "      <td>16.014973</td>\n",
       "      <td>15.820700</td>\n",
       "      <td>15.977363</td>\n",
       "      <td>16.000029</td>\n",
       "      <td>16.000029</td>\n",
       "      <td>502</td>\n",
       "      <td>13.908738</td>\n",
       "    </tr>\n",
       "    <tr>\n",
       "      <th>503</th>\n",
       "      <td>2011-12-30</td>\n",
       "      <td>16.108622</td>\n",
       "      <td>15.990563</td>\n",
       "      <td>15.990563</td>\n",
       "      <td>16.087200</td>\n",
       "      <td>16.087200</td>\n",
       "      <td>503</td>\n",
       "      <td>13.918394</td>\n",
       "    </tr>\n",
       "    <tr>\n",
       "      <th>504</th>\n",
       "      <td>2012-01-03</td>\n",
       "      <td>16.641375</td>\n",
       "      <td>16.248346</td>\n",
       "      <td>16.262545</td>\n",
       "      <td>16.573130</td>\n",
       "      <td>16.573130</td>\n",
       "      <td>504</td>\n",
       "      <td>13.929391</td>\n",
       "    </tr>\n",
       "  </tbody>\n",
       "</table>\n",
       "</div>"
      ],
      "text/plain": [
       "          Date       High        Low       Open      Close  Adj Close  \\\n",
       "500 2011-12-27  16.052082  15.740999  15.742244  15.946479  15.946479   \n",
       "501 2011-12-28  16.064785  15.892929  16.008745  15.932780  15.932780   \n",
       "502 2011-12-29  16.014973  15.820700  15.977363  16.000029  16.000029   \n",
       "503 2011-12-30  16.108622  15.990563  15.990563  16.087200  16.087200   \n",
       "504 2012-01-03  16.641375  16.248346  16.262545  16.573130  16.573130   \n",
       "\n",
       "     Index_of_the_day  Rolling_Mean  \n",
       "500               500     13.888971  \n",
       "501               501     13.899587  \n",
       "502               502     13.908738  \n",
       "503               503     13.918394  \n",
       "504               504     13.929391  "
      ]
     },
     "execution_count": 142,
     "metadata": {},
     "output_type": "execute_result"
    }
   ],
   "source": [
    "filt_google = google[(google['Index_of_the_day'] >= 500) & (google['Index_of_the_day'] < 2000)]\n",
    "filt_google.head()"
   ]
  },
  {
   "cell_type": "code",
   "execution_count": 143,
   "id": "f510fafe-a927-4acc-a3e8-3e885c0c9dc0",
   "metadata": {},
   "outputs": [],
   "source": [
    "from sklearn.linear_model import LinearRegression"
   ]
  },
  {
   "cell_type": "markdown",
   "id": "446f9646-1bf1-4c2a-a7e8-48fd19f0e7e2",
   "metadata": {},
   "source": [
    "* I performed linear regression using data obtained using rolling mean"
   ]
  },
  {
   "cell_type": "code",
   "execution_count": 144,
   "id": "940f02f7-e1e2-43e5-9cc9-a91987f4e123",
   "metadata": {},
   "outputs": [
    {
     "name": "stdout",
     "output_type": "stream",
     "text": [
      "y =  0.02 x +  1.57\n"
     ]
    }
   ],
   "source": [
    "model = LinearRegression().fit(filt_google[['Index_of_the_day']], filt_google[['Rolling_Mean']]) # columns in lists because we need DataFrame data type, not series\n",
    "m = model.coef_[0]  # y = mx + b // coef_ calculates coefficient m\n",
    "b = model.intercept_ # intercept_ calculates coefficient b\n",
    "print('y = ', round(m[0],2), 'x + ', round(b[0],2))"
   ]
  },
  {
   "cell_type": "code",
   "execution_count": 145,
   "id": "0937caf4-cf28-4cc4-a7da-af2d379c28fd",
   "metadata": {},
   "outputs": [
    {
     "data": {
      "text/plain": [
       "pandas.core.frame.DataFrame"
      ]
     },
     "execution_count": 145,
     "metadata": {},
     "output_type": "execute_result"
    }
   ],
   "source": [
    "type(filt_google[['Index_of_the_day']])"
   ]
  },
  {
   "cell_type": "code",
   "execution_count": 146,
   "id": "5f481016-a27d-4fdf-82ca-1d649ac6811b",
   "metadata": {},
   "outputs": [
    {
     "data": {
      "text/plain": [
       "array([[11.91117387],\n",
       "       [11.93185783],\n",
       "       [11.95254179],\n",
       "       [11.97322575],\n",
       "       [11.99390971],\n",
       "       [12.01459367],\n",
       "       [12.03527762],\n",
       "       [12.05596158],\n",
       "       [12.07664554],\n",
       "       [12.0973295 ]])"
      ]
     },
     "execution_count": 146,
     "metadata": {},
     "output_type": "execute_result"
    }
   ],
   "source": [
    "predictions = model.predict(filt_google[['Index_of_the_day']])\n",
    "predictions[0:10]"
   ]
  },
  {
   "cell_type": "code",
   "execution_count": 147,
   "id": "a03f85cd-8524-40b4-b827-d189cc2a13fc",
   "metadata": {},
   "outputs": [
    {
     "data": {
      "text/html": [
       "<div>\n",
       "<style scoped>\n",
       "    .dataframe tbody tr th:only-of-type {\n",
       "        vertical-align: middle;\n",
       "    }\n",
       "\n",
       "    .dataframe tbody tr th {\n",
       "        vertical-align: top;\n",
       "    }\n",
       "\n",
       "    .dataframe thead th {\n",
       "        text-align: right;\n",
       "    }\n",
       "</style>\n",
       "<table border=\"1\" class=\"dataframe\">\n",
       "  <thead>\n",
       "    <tr style=\"text-align: right;\">\n",
       "      <th></th>\n",
       "      <th>Pred</th>\n",
       "    </tr>\n",
       "  </thead>\n",
       "  <tbody>\n",
       "    <tr>\n",
       "      <th>500</th>\n",
       "      <td>11.911174</td>\n",
       "    </tr>\n",
       "    <tr>\n",
       "      <th>501</th>\n",
       "      <td>11.931858</td>\n",
       "    </tr>\n",
       "    <tr>\n",
       "      <th>502</th>\n",
       "      <td>11.952542</td>\n",
       "    </tr>\n",
       "    <tr>\n",
       "      <th>503</th>\n",
       "      <td>11.973226</td>\n",
       "    </tr>\n",
       "    <tr>\n",
       "      <th>504</th>\n",
       "      <td>11.993910</td>\n",
       "    </tr>\n",
       "  </tbody>\n",
       "</table>\n",
       "</div>"
      ],
      "text/plain": [
       "          Pred\n",
       "500  11.911174\n",
       "501  11.931858\n",
       "502  11.952542\n",
       "503  11.973226\n",
       "504  11.993910"
      ]
     },
     "execution_count": 147,
     "metadata": {},
     "output_type": "execute_result"
    }
   ],
   "source": [
    "predictions = pd.DataFrame(data = predictions, index = filt_google.index.values, columns = ['Pred'])\n",
    "predictions.head()"
   ]
  },
  {
   "cell_type": "code",
   "execution_count": 148,
   "id": "c5694c17-140a-4018-a574-13637291545f",
   "metadata": {},
   "outputs": [
    {
     "data": {
      "text/html": [
       "<div>\n",
       "<style scoped>\n",
       "    .dataframe tbody tr th:only-of-type {\n",
       "        vertical-align: middle;\n",
       "    }\n",
       "\n",
       "    .dataframe tbody tr th {\n",
       "        vertical-align: top;\n",
       "    }\n",
       "\n",
       "    .dataframe thead th {\n",
       "        text-align: right;\n",
       "    }\n",
       "</style>\n",
       "<table border=\"1\" class=\"dataframe\">\n",
       "  <thead>\n",
       "    <tr style=\"text-align: right;\">\n",
       "      <th></th>\n",
       "      <th>Date</th>\n",
       "      <th>High</th>\n",
       "      <th>Low</th>\n",
       "      <th>Open</th>\n",
       "      <th>Close</th>\n",
       "      <th>Adj Close</th>\n",
       "      <th>Index_of_the_day</th>\n",
       "      <th>Rolling_Mean</th>\n",
       "      <th>Pred</th>\n",
       "    </tr>\n",
       "  </thead>\n",
       "  <tbody>\n",
       "    <tr>\n",
       "      <th>500</th>\n",
       "      <td>2011-12-27</td>\n",
       "      <td>16.052082</td>\n",
       "      <td>15.740999</td>\n",
       "      <td>15.742244</td>\n",
       "      <td>15.946479</td>\n",
       "      <td>15.946479</td>\n",
       "      <td>500</td>\n",
       "      <td>13.888971</td>\n",
       "      <td>11.911174</td>\n",
       "    </tr>\n",
       "    <tr>\n",
       "      <th>501</th>\n",
       "      <td>2011-12-28</td>\n",
       "      <td>16.064785</td>\n",
       "      <td>15.892929</td>\n",
       "      <td>16.008745</td>\n",
       "      <td>15.932780</td>\n",
       "      <td>15.932780</td>\n",
       "      <td>501</td>\n",
       "      <td>13.899587</td>\n",
       "      <td>11.931858</td>\n",
       "    </tr>\n",
       "    <tr>\n",
       "      <th>502</th>\n",
       "      <td>2011-12-29</td>\n",
       "      <td>16.014973</td>\n",
       "      <td>15.820700</td>\n",
       "      <td>15.977363</td>\n",
       "      <td>16.000029</td>\n",
       "      <td>16.000029</td>\n",
       "      <td>502</td>\n",
       "      <td>13.908738</td>\n",
       "      <td>11.952542</td>\n",
       "    </tr>\n",
       "    <tr>\n",
       "      <th>503</th>\n",
       "      <td>2011-12-30</td>\n",
       "      <td>16.108622</td>\n",
       "      <td>15.990563</td>\n",
       "      <td>15.990563</td>\n",
       "      <td>16.087200</td>\n",
       "      <td>16.087200</td>\n",
       "      <td>503</td>\n",
       "      <td>13.918394</td>\n",
       "      <td>11.973226</td>\n",
       "    </tr>\n",
       "    <tr>\n",
       "      <th>504</th>\n",
       "      <td>2012-01-03</td>\n",
       "      <td>16.641375</td>\n",
       "      <td>16.248346</td>\n",
       "      <td>16.262545</td>\n",
       "      <td>16.573130</td>\n",
       "      <td>16.573130</td>\n",
       "      <td>504</td>\n",
       "      <td>13.929391</td>\n",
       "      <td>11.993910</td>\n",
       "    </tr>\n",
       "  </tbody>\n",
       "</table>\n",
       "</div>"
      ],
      "text/plain": [
       "          Date       High        Low       Open      Close  Adj Close  \\\n",
       "500 2011-12-27  16.052082  15.740999  15.742244  15.946479  15.946479   \n",
       "501 2011-12-28  16.064785  15.892929  16.008745  15.932780  15.932780   \n",
       "502 2011-12-29  16.014973  15.820700  15.977363  16.000029  16.000029   \n",
       "503 2011-12-30  16.108622  15.990563  15.990563  16.087200  16.087200   \n",
       "504 2012-01-03  16.641375  16.248346  16.262545  16.573130  16.573130   \n",
       "\n",
       "     Index_of_the_day  Rolling_Mean       Pred  \n",
       "500               500     13.888971  11.911174  \n",
       "501               501     13.899587  11.931858  \n",
       "502               502     13.908738  11.952542  \n",
       "503               503     13.918394  11.973226  \n",
       "504               504     13.929391  11.993910  "
      ]
     },
     "execution_count": 148,
     "metadata": {},
     "output_type": "execute_result"
    }
   ],
   "source": [
    "joined_df = filt_google.join(predictions, how = 'inner')\n",
    "joined_df.head()"
   ]
  },
  {
   "cell_type": "markdown",
   "id": "81e9dea5-5739-4760-a3ed-585d2c624304",
   "metadata": {},
   "source": [
    "* here we see how the values were fitted using linear regression"
   ]
  },
  {
   "cell_type": "code",
   "execution_count": 149,
   "id": "b1ed244f-85e2-4600-84ad-a867ca6bf873",
   "metadata": {},
   "outputs": [
    {
     "data": {
      "text/plain": [
       "<matplotlib.legend.Legend at 0x25eca580430>"
      ]
     },
     "execution_count": 149,
     "metadata": {},
     "output_type": "execute_result"
    },
    {
     "data": {
      "image/png": "[encoded data removed]",
      "text/plain": [
       "<Figure size 432x288 with 1 Axes>"
      ]
     },
     "metadata": {
      "needs_background": "light"
     },
     "output_type": "display_data"
    }
   ],
   "source": [
    "fig = plt.figure()\n",
    "ax = fig.add_subplot()\n",
    "ax.plot(joined_df['Index_of_the_day'], joined_df['Rolling_Mean'], color = (0,0,0), linewidth = 3, label = 'Smoothed')\n",
    "ax.plot(joined_df['Index_of_the_day'], joined_df['Pred'], color = (0,1,0), label = 'Predictions')\n",
    "ax.set_title('Predictions (Linear Regression) vs Smoothed Plot')\n",
    "ax.set_xlabel('Index_of_the_day')\n",
    "ax.set_ylabel('Price')\n",
    "ax.legend(loc = 'upper left')"
   ]
  },
  {
   "cell_type": "markdown",
   "id": "6a17eec8-4805-4e16-8a35-e4f38f7d1776",
   "metadata": {},
   "source": [
    "* here r squared value. This value range from 0 to 1. The higher the better. 0 indicates that the response variable cannot be explained by the predictor variable at all. A value of 1 indicates that the response variable can be perfectly explained."
   ]
  },
  {
   "cell_type": "code",
   "execution_count": 150,
   "id": "9edf4f99-dcbe-46f8-bbc9-4dbc34154b99",
   "metadata": {},
   "outputs": [
    {
     "data": {
      "text/plain": [
       "0.9720673502280623"
      ]
     },
     "execution_count": 150,
     "metadata": {},
     "output_type": "execute_result"
    }
   ],
   "source": [
    "import sklearn\n",
    "\n",
    "r_squared = sklearn.metrics.r2_score(joined_df['Rolling_Mean'], joined_df['Pred'], multioutput = 'uniform_average')\n",
    "r_squared"
   ]
  },
  {
   "cell_type": "markdown",
   "id": "81c4e2b4-863e-455d-9b43-03dad6ee37d0",
   "metadata": {},
   "source": [
    "* Next, I checked how the predicted values compare to future data not included in the regression parameter calculation"
   ]
  },
  {
   "cell_type": "code",
   "execution_count": 151,
   "id": "9b8c4e31-284a-42ca-a600-637143d39824",
   "metadata": {},
   "outputs": [
    {
     "data": {
      "text/plain": [
       "array([[ 1.56919443],\n",
       "       [ 1.58987839],\n",
       "       [ 1.61056235],\n",
       "       ...,\n",
       "       [63.99338234],\n",
       "       [64.0140663 ],\n",
       "       [64.03475025]])"
      ]
     },
     "execution_count": 151,
     "metadata": {},
     "output_type": "execute_result"
    }
   ],
   "source": [
    "new_predictions = model.predict(google[['Index_of_the_day']])\n",
    "new_predictions"
   ]
  },
  {
   "cell_type": "code",
   "execution_count": 152,
   "id": "bfcec397-4326-4b18-b6e2-25bc9067a8ea",
   "metadata": {},
   "outputs": [
    {
     "data": {
      "text/html": [
       "<div>\n",
       "<style scoped>\n",
       "    .dataframe tbody tr th:only-of-type {\n",
       "        vertical-align: middle;\n",
       "    }\n",
       "\n",
       "    .dataframe tbody tr th {\n",
       "        vertical-align: top;\n",
       "    }\n",
       "\n",
       "    .dataframe thead th {\n",
       "        text-align: right;\n",
       "    }\n",
       "</style>\n",
       "<table border=\"1\" class=\"dataframe\">\n",
       "  <thead>\n",
       "    <tr style=\"text-align: right;\">\n",
       "      <th></th>\n",
       "      <th>Pred</th>\n",
       "    </tr>\n",
       "  </thead>\n",
       "  <tbody>\n",
       "    <tr>\n",
       "      <th>0</th>\n",
       "      <td>1.569194</td>\n",
       "    </tr>\n",
       "    <tr>\n",
       "      <th>1</th>\n",
       "      <td>1.589878</td>\n",
       "    </tr>\n",
       "    <tr>\n",
       "      <th>2</th>\n",
       "      <td>1.610562</td>\n",
       "    </tr>\n",
       "    <tr>\n",
       "      <th>3</th>\n",
       "      <td>1.631246</td>\n",
       "    </tr>\n",
       "    <tr>\n",
       "      <th>4</th>\n",
       "      <td>1.651930</td>\n",
       "    </tr>\n",
       "  </tbody>\n",
       "</table>\n",
       "</div>"
      ],
      "text/plain": [
       "       Pred\n",
       "0  1.569194\n",
       "1  1.589878\n",
       "2  1.610562\n",
       "3  1.631246\n",
       "4  1.651930"
      ]
     },
     "execution_count": 152,
     "metadata": {},
     "output_type": "execute_result"
    }
   ],
   "source": [
    "new_predictions = pd.DataFrame(data = new_predictions, index = google.index.values, columns = ['Pred'])\n",
    "new_predictions.head()"
   ]
  },
  {
   "cell_type": "code",
   "execution_count": 153,
   "id": "65e18005-8515-4f99-9cb5-54469dbc7b1c",
   "metadata": {},
   "outputs": [
    {
     "data": {
      "text/html": [
       "<div>\n",
       "<style scoped>\n",
       "    .dataframe tbody tr th:only-of-type {\n",
       "        vertical-align: middle;\n",
       "    }\n",
       "\n",
       "    .dataframe tbody tr th {\n",
       "        vertical-align: top;\n",
       "    }\n",
       "\n",
       "    .dataframe thead th {\n",
       "        text-align: right;\n",
       "    }\n",
       "</style>\n",
       "<table border=\"1\" class=\"dataframe\">\n",
       "  <thead>\n",
       "    <tr style=\"text-align: right;\">\n",
       "      <th></th>\n",
       "      <th>Date</th>\n",
       "      <th>High</th>\n",
       "      <th>Low</th>\n",
       "      <th>Open</th>\n",
       "      <th>Close</th>\n",
       "      <th>Adj Close</th>\n",
       "      <th>Index_of_the_day</th>\n",
       "      <th>Rolling_Mean</th>\n",
       "      <th>Pred</th>\n",
       "    </tr>\n",
       "  </thead>\n",
       "  <tbody>\n",
       "    <tr>\n",
       "      <th>199</th>\n",
       "      <td>2010-10-18</td>\n",
       "      <td>15.434398</td>\n",
       "      <td>14.957685</td>\n",
       "      <td>14.957685</td>\n",
       "      <td>15.385083</td>\n",
       "      <td>15.385083</td>\n",
       "      <td>199</td>\n",
       "      <td>12.940028</td>\n",
       "      <td>5.685302</td>\n",
       "    </tr>\n",
       "    <tr>\n",
       "      <th>200</th>\n",
       "      <td>2010-10-19</td>\n",
       "      <td>15.313103</td>\n",
       "      <td>15.015219</td>\n",
       "      <td>15.164410</td>\n",
       "      <td>15.139005</td>\n",
       "      <td>15.139005</td>\n",
       "      <td>200</td>\n",
       "      <td>12.937774</td>\n",
       "      <td>5.705986</td>\n",
       "    </tr>\n",
       "    <tr>\n",
       "      <th>201</th>\n",
       "      <td>2010-10-20</td>\n",
       "      <td>15.376864</td>\n",
       "      <td>15.130786</td>\n",
       "      <td>15.146726</td>\n",
       "      <td>15.142741</td>\n",
       "      <td>15.142741</td>\n",
       "      <td>201</td>\n",
       "      <td>12.935402</td>\n",
       "      <td>5.726670</td>\n",
       "    </tr>\n",
       "    <tr>\n",
       "      <th>202</th>\n",
       "      <td>2010-10-21</td>\n",
       "      <td>15.342493</td>\n",
       "      <td>15.093426</td>\n",
       "      <td>15.230662</td>\n",
       "      <td>15.242617</td>\n",
       "      <td>15.242617</td>\n",
       "      <td>202</td>\n",
       "      <td>12.933615</td>\n",
       "      <td>5.747354</td>\n",
       "    </tr>\n",
       "    <tr>\n",
       "      <th>203</th>\n",
       "      <td>2010-10-22</td>\n",
       "      <td>15.313103</td>\n",
       "      <td>15.194298</td>\n",
       "      <td>15.240873</td>\n",
       "      <td>15.256067</td>\n",
       "      <td>15.256067</td>\n",
       "      <td>203</td>\n",
       "      <td>12.933929</td>\n",
       "      <td>5.768038</td>\n",
       "    </tr>\n",
       "  </tbody>\n",
       "</table>\n",
       "</div>"
      ],
      "text/plain": [
       "          Date       High        Low       Open      Close  Adj Close  \\\n",
       "199 2010-10-18  15.434398  14.957685  14.957685  15.385083  15.385083   \n",
       "200 2010-10-19  15.313103  15.015219  15.164410  15.139005  15.139005   \n",
       "201 2010-10-20  15.376864  15.130786  15.146726  15.142741  15.142741   \n",
       "202 2010-10-21  15.342493  15.093426  15.230662  15.242617  15.242617   \n",
       "203 2010-10-22  15.313103  15.194298  15.240873  15.256067  15.256067   \n",
       "\n",
       "     Index_of_the_day  Rolling_Mean      Pred  \n",
       "199               199     12.940028  5.685302  \n",
       "200               200     12.937774  5.705986  \n",
       "201               201     12.935402  5.726670  \n",
       "202               202     12.933615  5.747354  \n",
       "203               203     12.933929  5.768038  "
      ]
     },
     "execution_count": 153,
     "metadata": {},
     "output_type": "execute_result"
    }
   ],
   "source": [
    "new_joined_df = google.join(new_predictions, how = 'inner')\n",
    "new_joined_df = new_joined_df.drop(new_joined_df.index[0:199]) # first 200 rows of rolling mean are NaNs\n",
    "new_joined_df.head()"
   ]
  },
  {
   "cell_type": "code",
   "execution_count": 157,
   "id": "9860b882-bff3-4da7-9c03-844e3e0b7ba9",
   "metadata": {},
   "outputs": [
    {
     "data": {
      "text/plain": [
       "<matplotlib.legend.Legend at 0x25ecb860d60>"
      ]
     },
     "execution_count": 157,
     "metadata": {},
     "output_type": "execute_result"
    },
    {
     "data": {
      "image/png": "[encoded data removed]",
      "text/plain": [
       "<Figure size 432x288 with 1 Axes>"
      ]
     },
     "metadata": {
      "needs_background": "light"
     },
     "output_type": "display_data"
    }
   ],
   "source": [
    "fig = plt.figure()\n",
    "ax = fig.add_subplot()\n",
    "ax.plot(new_joined_df['Index_of_the_day'], new_joined_df['Rolling_Mean'], color = (0,0,0), linewidth = 3, label = 'Smoothed')\n",
    "ax.plot(new_joined_df['Index_of_the_day'], new_joined_df['Pred'], color = (0,1,0), label = 'Predictions')\n",
    "ax.set_title('Predictions')\n",
    "ax.set_xlabel('Index_of_the_day')\n",
    "ax.set_ylabel('Price')\n",
    "ax.legend(loc = 'upper left')"
   ]
  },
  {
   "cell_type": "markdown",
   "id": "6298c988-7bbd-4e9c-a3d2-8c8e90fe06d2",
   "metadata": {},
   "source": [
    "* we can see that the actual values of the shares completely deviate from those predicted"
   ]
  }
 ],
 "metadata": {
  "kernelspec": {
   "display_name": "Python 3",
   "language": "python",
   "name": "python3"
  },
  "language_info": {
   "codemirror_mode": {
    "name": "ipython",
    "version": 3
   },
   "file_extension": ".py",
   "mimetype": "text/x-python",
   "name": "python",
   "nbconvert_exporter": "python",
   "pygments_lexer": "ipython3",
   "version": "3.8.8"
  }
 },
 "nbformat": 4,
 "nbformat_minor": 5
}
