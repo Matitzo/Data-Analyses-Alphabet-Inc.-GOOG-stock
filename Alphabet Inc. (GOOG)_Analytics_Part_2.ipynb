{
 "cells": [
  {
   "cell_type": "markdown",
   "id": "c6b7d01f-67d8-4383-bc7c-c3821ef5aadc",
   "metadata": {},
   "source": [
    "# Data of Alphabet Inc. (GOOG) stock\n",
    "This data set contains information about Alphabet Inc. share prices. In this example, I will analyze data from 2010-2022 in terms of daily, monthly and annual stock price variations."
   ]
  },
  {
   "cell_type": "code",
   "execution_count": 2,
   "id": "a0c6833a-acdb-4df0-b427-3f9b9b3f11ec",
   "metadata": {},
   "outputs": [],
   "source": [
    "import pandas_datareader.data as web\n",
    "import pandas as pd\n",
    "import matplotlib.pyplot as plt\n",
    "import numpy as np"
   ]
  },
  {
   "cell_type": "markdown",
   "id": "8e292a20-70c9-4108-a76d-813a11ef6895",
   "metadata": {},
   "source": [
    "* Loading Data of Alphabet Inc. (GOOG) stock - Historical Data"
   ]
  },
  {
   "cell_type": "code",
   "execution_count": 3,
   "id": "a1e4d58f-626c-4781-9c06-28e09f60b870",
   "metadata": {},
   "outputs": [
    {
     "data": {
      "text/html": [
       "<div>\n",
       "<style scoped>\n",
       "    .dataframe tbody tr th:only-of-type {\n",
       "        vertical-align: middle;\n",
       "    }\n",
       "\n",
       "    .dataframe tbody tr th {\n",
       "        vertical-align: top;\n",
       "    }\n",
       "\n",
       "    .dataframe thead th {\n",
       "        text-align: right;\n",
       "    }\n",
       "</style>\n",
       "<table border=\"1\" class=\"dataframe\">\n",
       "  <thead>\n",
       "    <tr style=\"text-align: right;\">\n",
       "      <th></th>\n",
       "      <th>High</th>\n",
       "      <th>Low</th>\n",
       "      <th>Open</th>\n",
       "      <th>Close</th>\n",
       "      <th>Adj Close</th>\n",
       "    </tr>\n",
       "    <tr>\n",
       "      <th>Date</th>\n",
       "      <th></th>\n",
       "      <th></th>\n",
       "      <th></th>\n",
       "      <th></th>\n",
       "      <th></th>\n",
       "    </tr>\n",
       "  </thead>\n",
       "  <tbody>\n",
       "    <tr>\n",
       "      <th>2010-01-04</th>\n",
       "      <td>15.678981</td>\n",
       "      <td>15.547723</td>\n",
       "      <td>15.615220</td>\n",
       "      <td>15.610239</td>\n",
       "      <td>15.610239</td>\n",
       "    </tr>\n",
       "    <tr>\n",
       "      <th>2010-01-05</th>\n",
       "      <td>15.637387</td>\n",
       "      <td>15.480475</td>\n",
       "      <td>15.620949</td>\n",
       "      <td>15.541497</td>\n",
       "      <td>15.541497</td>\n",
       "    </tr>\n",
       "    <tr>\n",
       "      <th>2010-01-06</th>\n",
       "      <td>15.588072</td>\n",
       "      <td>15.102393</td>\n",
       "      <td>15.588072</td>\n",
       "      <td>15.149715</td>\n",
       "      <td>15.149715</td>\n",
       "    </tr>\n",
       "    <tr>\n",
       "      <th>2010-01-07</th>\n",
       "      <td>15.193053</td>\n",
       "      <td>14.760922</td>\n",
       "      <td>15.178109</td>\n",
       "      <td>14.797037</td>\n",
       "      <td>14.797037</td>\n",
       "    </tr>\n",
       "    <tr>\n",
       "      <th>2010-01-08</th>\n",
       "      <td>15.024933</td>\n",
       "      <td>14.672753</td>\n",
       "      <td>14.744733</td>\n",
       "      <td>14.994298</td>\n",
       "      <td>14.994298</td>\n",
       "    </tr>\n",
       "  </tbody>\n",
       "</table>\n",
       "</div>"
      ],
      "text/plain": [
       "                 High        Low       Open      Close  Adj Close\n",
       "Date                                                             \n",
       "2010-01-04  15.678981  15.547723  15.615220  15.610239  15.610239\n",
       "2010-01-05  15.637387  15.480475  15.620949  15.541497  15.541497\n",
       "2010-01-06  15.588072  15.102393  15.588072  15.149715  15.149715\n",
       "2010-01-07  15.193053  14.760922  15.178109  14.797037  14.797037\n",
       "2010-01-08  15.024933  14.672753  14.744733  14.994298  14.994298"
      ]
     },
     "execution_count": 3,
     "metadata": {},
     "output_type": "execute_result"
    }
   ],
   "source": [
    "google = web.DataReader('GOOG', data_source = 'yahoo', start = '1/1/2010', end = '1/1/2022') # loading data\n",
    "google = google.drop('Volume', axis = 1) # deleting column Vol\n",
    "google.head()"
   ]
  },
  {
   "cell_type": "markdown",
   "id": "8e22a2ef-c21e-475a-b290-dd665d13f485",
   "metadata": {},
   "source": [
    "### Daily Price Variation\n",
    "* To calculate the daily variances I subtracted the open stock prices between highest and lowest stock price during specific day. In this way."
   ]
  },
  {
   "cell_type": "code",
   "execution_count": 6,
   "id": "3f6db020-cdba-40b8-a016-928fda72f6c6",
   "metadata": {},
   "outputs": [
    {
     "data": {
      "text/html": [
       "<div>\n",
       "<style scoped>\n",
       "    .dataframe tbody tr th:only-of-type {\n",
       "        vertical-align: middle;\n",
       "    }\n",
       "\n",
       "    .dataframe tbody tr th {\n",
       "        vertical-align: top;\n",
       "    }\n",
       "\n",
       "    .dataframe thead th {\n",
       "        text-align: right;\n",
       "    }\n",
       "</style>\n",
       "<table border=\"1\" class=\"dataframe\">\n",
       "  <thead>\n",
       "    <tr style=\"text-align: right;\">\n",
       "      <th></th>\n",
       "      <th>Daily Price Variation</th>\n",
       "    </tr>\n",
       "    <tr>\n",
       "      <th>Date</th>\n",
       "      <th></th>\n",
       "    </tr>\n",
       "  </thead>\n",
       "  <tbody>\n",
       "    <tr>\n",
       "      <th>2010-01-04</th>\n",
       "      <td>0.131258</td>\n",
       "    </tr>\n",
       "    <tr>\n",
       "      <th>2010-01-05</th>\n",
       "      <td>0.156912</td>\n",
       "    </tr>\n",
       "    <tr>\n",
       "      <th>2010-01-06</th>\n",
       "      <td>0.485679</td>\n",
       "    </tr>\n",
       "    <tr>\n",
       "      <th>2010-01-07</th>\n",
       "      <td>0.432131</td>\n",
       "    </tr>\n",
       "    <tr>\n",
       "      <th>2010-01-08</th>\n",
       "      <td>0.352180</td>\n",
       "    </tr>\n",
       "  </tbody>\n",
       "</table>\n",
       "</div>"
      ],
      "text/plain": [
       "            Daily Price Variation\n",
       "Date                             \n",
       "2010-01-04               0.131258\n",
       "2010-01-05               0.156912\n",
       "2010-01-06               0.485679\n",
       "2010-01-07               0.432131\n",
       "2010-01-08               0.352180"
      ]
     },
     "execution_count": 6,
     "metadata": {},
     "output_type": "execute_result"
    }
   ],
   "source": [
    "daily_shift = (google['High'] - google['Low'])\n",
    "daily_shift = pd.DataFrame(data = daily_shift)\n",
    "daily_shift.columns = ['Daily Price Variation']\n",
    "daily_shift.head()"
   ]
  },
  {
   "cell_type": "markdown",
   "id": "309b1574-1e90-4662-93be-204f10fa625a",
   "metadata": {},
   "source": [
    "* here a different approach to the topic, subtracting the open stock values from consecutive days. First value is NaN because there is nothing to substract from. This values show how stock prices change between days."
   ]
  },
  {
   "cell_type": "code",
   "execution_count": 4,
   "id": "c5ac10f7-578d-4efb-a3d5-3b92cf181a70",
   "metadata": {},
   "outputs": [
    {
     "data": {
      "text/html": [
       "<div>\n",
       "<style scoped>\n",
       "    .dataframe tbody tr th:only-of-type {\n",
       "        vertical-align: middle;\n",
       "    }\n",
       "\n",
       "    .dataframe tbody tr th {\n",
       "        vertical-align: top;\n",
       "    }\n",
       "\n",
       "    .dataframe thead th {\n",
       "        text-align: right;\n",
       "    }\n",
       "</style>\n",
       "<table border=\"1\" class=\"dataframe\">\n",
       "  <thead>\n",
       "    <tr style=\"text-align: right;\">\n",
       "      <th></th>\n",
       "      <th>Daily Price Variation</th>\n",
       "    </tr>\n",
       "    <tr>\n",
       "      <th>Date</th>\n",
       "      <th></th>\n",
       "    </tr>\n",
       "  </thead>\n",
       "  <tbody>\n",
       "    <tr>\n",
       "      <th>2010-01-04</th>\n",
       "      <td>NaN</td>\n",
       "    </tr>\n",
       "    <tr>\n",
       "      <th>2010-01-05</th>\n",
       "      <td>0.005729</td>\n",
       "    </tr>\n",
       "    <tr>\n",
       "      <th>2010-01-06</th>\n",
       "      <td>-0.032877</td>\n",
       "    </tr>\n",
       "    <tr>\n",
       "      <th>2010-01-07</th>\n",
       "      <td>-0.409963</td>\n",
       "    </tr>\n",
       "    <tr>\n",
       "      <th>2010-01-08</th>\n",
       "      <td>-0.433376</td>\n",
       "    </tr>\n",
       "  </tbody>\n",
       "</table>\n",
       "</div>"
      ],
      "text/plain": [
       "            Daily Price Variation\n",
       "Date                             \n",
       "2010-01-04                    NaN\n",
       "2010-01-05               0.005729\n",
       "2010-01-06              -0.032877\n",
       "2010-01-07              -0.409963\n",
       "2010-01-08              -0.433376"
      ]
     },
     "execution_count": 4,
     "metadata": {},
     "output_type": "execute_result"
    }
   ],
   "source": [
    "ndaily_shift = (google['Open'] - google['Open'].shift(1))\n",
    "ndaily_shift = pd.DataFrame(data = ndaily_shift)\n",
    "ndaily_shift.columns = ['Daily Price Variation']\n",
    "ndaily_shift.head()"
   ]
  },
  {
   "cell_type": "markdown",
   "id": "3add8aad-e06e-46f1-8697-4350734bfb70",
   "metadata": {},
   "source": [
    "* on the first day there is NaN value beacause there is nothing to substract from it"
   ]
  },
  {
   "cell_type": "code",
   "execution_count": 5,
   "id": "a01aa088-2eb7-409a-833e-d47c7d7cad9f",
   "metadata": {},
   "outputs": [
    {
     "data": {
      "text/html": [
       "<div>\n",
       "<style scoped>\n",
       "    .dataframe tbody tr th:only-of-type {\n",
       "        vertical-align: middle;\n",
       "    }\n",
       "\n",
       "    .dataframe tbody tr th {\n",
       "        vertical-align: top;\n",
       "    }\n",
       "\n",
       "    .dataframe thead th {\n",
       "        text-align: right;\n",
       "    }\n",
       "</style>\n",
       "<table border=\"1\" class=\"dataframe\">\n",
       "  <thead>\n",
       "    <tr style=\"text-align: right;\">\n",
       "      <th></th>\n",
       "      <th>Daily Price Variation</th>\n",
       "    </tr>\n",
       "    <tr>\n",
       "      <th>Date</th>\n",
       "      <th></th>\n",
       "    </tr>\n",
       "  </thead>\n",
       "  <tbody>\n",
       "    <tr>\n",
       "      <th>2010-01-05</th>\n",
       "      <td>0.005729</td>\n",
       "    </tr>\n",
       "    <tr>\n",
       "      <th>2010-01-06</th>\n",
       "      <td>-0.032877</td>\n",
       "    </tr>\n",
       "    <tr>\n",
       "      <th>2010-01-07</th>\n",
       "      <td>-0.409963</td>\n",
       "    </tr>\n",
       "    <tr>\n",
       "      <th>2010-01-08</th>\n",
       "      <td>-0.433376</td>\n",
       "    </tr>\n",
       "    <tr>\n",
       "      <th>2010-01-11</th>\n",
       "      <td>0.310337</td>\n",
       "    </tr>\n",
       "  </tbody>\n",
       "</table>\n",
       "</div>"
      ],
      "text/plain": [
       "            Daily Price Variation\n",
       "Date                             \n",
       "2010-01-05               0.005729\n",
       "2010-01-06              -0.032877\n",
       "2010-01-07              -0.409963\n",
       "2010-01-08              -0.433376\n",
       "2010-01-11               0.310337"
      ]
     },
     "execution_count": 5,
     "metadata": {},
     "output_type": "execute_result"
    }
   ],
   "source": [
    "ndaily_shift = ndaily_shift.dropna()\n",
    "ndaily_shift.head()"
   ]
  },
  {
   "cell_type": "markdown",
   "id": "b457e8cd-9942-40ac-acca-48da7680849a",
   "metadata": {},
   "source": [
    "### Monthly Price Variation\n",
    "To calculate monthly variations, firstly I have grouped months and I subtracted the minimum share values from the maximum ones. Next I created dataframe with differences from Open column. Doing that I got variations between maximum and minimum stock price in particular months."
   ]
  },
  {
   "cell_type": "code",
   "execution_count": 54,
   "id": "76ecb099-84a8-4b57-8119-96e4f0ec0e54",
   "metadata": {},
   "outputs": [
    {
     "data": {
      "text/html": [
       "<div>\n",
       "<style scoped>\n",
       "    .dataframe tbody tr th:only-of-type {\n",
       "        vertical-align: middle;\n",
       "    }\n",
       "\n",
       "    .dataframe tbody tr th {\n",
       "        vertical-align: top;\n",
       "    }\n",
       "\n",
       "    .dataframe thead th {\n",
       "        text-align: right;\n",
       "    }\n",
       "</style>\n",
       "<table border=\"1\" class=\"dataframe\">\n",
       "  <thead>\n",
       "    <tr style=\"text-align: right;\">\n",
       "      <th></th>\n",
       "      <th>High</th>\n",
       "      <th>Low</th>\n",
       "      <th>Open</th>\n",
       "      <th>Close</th>\n",
       "      <th>Adj Close</th>\n",
       "    </tr>\n",
       "    <tr>\n",
       "      <th>Date</th>\n",
       "      <th></th>\n",
       "      <th></th>\n",
       "      <th></th>\n",
       "      <th></th>\n",
       "      <th></th>\n",
       "    </tr>\n",
       "  </thead>\n",
       "  <tbody>\n",
       "    <tr>\n",
       "      <th>2010-01-31</th>\n",
       "      <td>269.484894</td>\n",
       "      <td>261.823608</td>\n",
       "      <td>267.980530</td>\n",
       "      <td>263.980530</td>\n",
       "      <td>263.980530</td>\n",
       "    </tr>\n",
       "    <tr>\n",
       "      <th>2010-02-28</th>\n",
       "      <td>263.258240</td>\n",
       "      <td>259.029083</td>\n",
       "      <td>262.575806</td>\n",
       "      <td>262.232086</td>\n",
       "      <td>262.232086</td>\n",
       "    </tr>\n",
       "    <tr>\n",
       "      <th>2010-03-31</th>\n",
       "      <td>265.649292</td>\n",
       "      <td>262.884644</td>\n",
       "      <td>263.611908</td>\n",
       "      <td>265.350403</td>\n",
       "      <td>265.350403</td>\n",
       "    </tr>\n",
       "    <tr>\n",
       "      <th>2010-04-30</th>\n",
       "      <td>266.416412</td>\n",
       "      <td>259.542175</td>\n",
       "      <td>263.487396</td>\n",
       "      <td>261.868439</td>\n",
       "      <td>261.868439</td>\n",
       "    </tr>\n",
       "    <tr>\n",
       "      <th>2010-05-31</th>\n",
       "      <td>237.833542</td>\n",
       "      <td>229.141129</td>\n",
       "      <td>233.200912</td>\n",
       "      <td>235.143631</td>\n",
       "      <td>235.143631</td>\n",
       "    </tr>\n",
       "    <tr>\n",
       "      <th>...</th>\n",
       "      <td>...</td>\n",
       "      <td>...</td>\n",
       "      <td>...</td>\n",
       "      <td>...</td>\n",
       "      <td>...</td>\n",
       "    </tr>\n",
       "    <tr>\n",
       "      <th>2021-08-31</th>\n",
       "      <td>2720.409912</td>\n",
       "      <td>2683.669922</td>\n",
       "      <td>2709.350098</td>\n",
       "      <td>2719.790039</td>\n",
       "      <td>2719.790039</td>\n",
       "    </tr>\n",
       "    <tr>\n",
       "      <th>2021-09-30</th>\n",
       "      <td>2711.800049</td>\n",
       "      <td>2660.000000</td>\n",
       "      <td>2686.500000</td>\n",
       "      <td>2665.310059</td>\n",
       "      <td>2665.310059</td>\n",
       "    </tr>\n",
       "    <tr>\n",
       "      <th>2021-10-31</th>\n",
       "      <td>2714.000000</td>\n",
       "      <td>2623.330078</td>\n",
       "      <td>2671.090088</td>\n",
       "      <td>2675.300049</td>\n",
       "      <td>2675.300049</td>\n",
       "    </tr>\n",
       "    <tr>\n",
       "      <th>2021-11-30</th>\n",
       "      <td>2905.939941</td>\n",
       "      <td>2841.320068</td>\n",
       "      <td>2885.969971</td>\n",
       "      <td>2849.040039</td>\n",
       "      <td>2849.040039</td>\n",
       "    </tr>\n",
       "    <tr>\n",
       "      <th>2021-12-31</th>\n",
       "      <td>2852.209961</td>\n",
       "      <td>2805.000000</td>\n",
       "      <td>2813.592041</td>\n",
       "      <td>2832.360107</td>\n",
       "      <td>2832.360107</td>\n",
       "    </tr>\n",
       "  </tbody>\n",
       "</table>\n",
       "<p>144 rows × 5 columns</p>\n",
       "</div>"
      ],
      "text/plain": [
       "                   High          Low         Open        Close    Adj Close\n",
       "Date                                                                       \n",
       "2010-01-31   269.484894   261.823608   267.980530   263.980530   263.980530\n",
       "2010-02-28   263.258240   259.029083   262.575806   262.232086   262.232086\n",
       "2010-03-31   265.649292   262.884644   263.611908   265.350403   265.350403\n",
       "2010-04-30   266.416412   259.542175   263.487396   261.868439   261.868439\n",
       "2010-05-31   237.833542   229.141129   233.200912   235.143631   235.143631\n",
       "...                 ...          ...          ...          ...          ...\n",
       "2021-08-31  2720.409912  2683.669922  2709.350098  2719.790039  2719.790039\n",
       "2021-09-30  2711.800049  2660.000000  2686.500000  2665.310059  2665.310059\n",
       "2021-10-31  2714.000000  2623.330078  2671.090088  2675.300049  2675.300049\n",
       "2021-11-30  2905.939941  2841.320068  2885.969971  2849.040039  2849.040039\n",
       "2021-12-31  2852.209961  2805.000000  2813.592041  2832.360107  2832.360107\n",
       "\n",
       "[144 rows x 5 columns]"
      ]
     },
     "execution_count": 54,
     "metadata": {},
     "output_type": "execute_result"
    }
   ],
   "source": [
    "google.groupby(pd.Grouper(freq = 'M')).max() # monthly max values from every column\n",
    "google.groupby(pd.Grouper(freq = 'M')).min() # monthly min values from every column"
   ]
  },
  {
   "cell_type": "code",
   "execution_count": 55,
   "id": "a90b22e9-df14-4998-9aa3-b841142a52dc",
   "metadata": {},
   "outputs": [
    {
     "data": {
      "text/html": [
       "<div>\n",
       "<style scoped>\n",
       "    .dataframe tbody tr th:only-of-type {\n",
       "        vertical-align: middle;\n",
       "    }\n",
       "\n",
       "    .dataframe tbody tr th {\n",
       "        vertical-align: top;\n",
       "    }\n",
       "\n",
       "    .dataframe thead th {\n",
       "        text-align: right;\n",
       "    }\n",
       "</style>\n",
       "<table border=\"1\" class=\"dataframe\">\n",
       "  <thead>\n",
       "    <tr style=\"text-align: right;\">\n",
       "      <th></th>\n",
       "      <th>Monthly Price Variation</th>\n",
       "    </tr>\n",
       "    <tr>\n",
       "      <th>Date</th>\n",
       "      <th></th>\n",
       "    </tr>\n",
       "  </thead>\n",
       "  <tbody>\n",
       "    <tr>\n",
       "      <th>2010-01-31</th>\n",
       "      <td>44.438446</td>\n",
       "    </tr>\n",
       "    <tr>\n",
       "      <th>2010-02-28</th>\n",
       "      <td>10.077209</td>\n",
       "    </tr>\n",
       "    <tr>\n",
       "      <th>2010-03-31</th>\n",
       "      <td>29.359955</td>\n",
       "    </tr>\n",
       "    <tr>\n",
       "      <th>2010-04-30</th>\n",
       "      <td>31.491943</td>\n",
       "    </tr>\n",
       "    <tr>\n",
       "      <th>2010-05-31</th>\n",
       "      <td>29.076004</td>\n",
       "    </tr>\n",
       "  </tbody>\n",
       "</table>\n",
       "</div>"
      ],
      "text/plain": [
       "            Monthly Price Variation\n",
       "Date                               \n",
       "2010-01-31                44.438446\n",
       "2010-02-28                10.077209\n",
       "2010-03-31                29.359955\n",
       "2010-04-30                31.491943\n",
       "2010-05-31                29.076004"
      ]
     },
     "execution_count": 55,
     "metadata": {},
     "output_type": "execute_result"
    }
   ],
   "source": [
    "month_difference = google.groupby(pd.Grouper(freq = 'M')).max() - google.groupby(pd.Grouper(freq = 'M')).min()\n",
    "month_difference = pd.DataFrame(data = month_difference['Open'])\n",
    "month_difference.columns = ['Monthly Price Variation']\n",
    "month_difference.head()"
   ]
  },
  {
   "cell_type": "markdown",
   "id": "1da834b0-ccaf-4ff8-afcc-6dd89ac51b12",
   "metadata": {},
   "source": [
    "### Yearly Price Variation\n",
    "* in this case approach is identical to the monthly variations."
   ]
  },
  {
   "cell_type": "code",
   "execution_count": 56,
   "id": "0b863be7-b6ec-4f83-9d3c-c7c2785792b6",
   "metadata": {},
   "outputs": [
    {
     "data": {
      "text/html": [
       "<div>\n",
       "<style scoped>\n",
       "    .dataframe tbody tr th:only-of-type {\n",
       "        vertical-align: middle;\n",
       "    }\n",
       "\n",
       "    .dataframe tbody tr th {\n",
       "        vertical-align: top;\n",
       "    }\n",
       "\n",
       "    .dataframe thead th {\n",
       "        text-align: right;\n",
       "    }\n",
       "</style>\n",
       "<table border=\"1\" class=\"dataframe\">\n",
       "  <thead>\n",
       "    <tr style=\"text-align: right;\">\n",
       "      <th></th>\n",
       "      <th>Yearly Price Variation</th>\n",
       "    </tr>\n",
       "    <tr>\n",
       "      <th>Date</th>\n",
       "      <th></th>\n",
       "    </tr>\n",
       "  </thead>\n",
       "  <tbody>\n",
       "    <tr>\n",
       "      <th>2010-12-31</th>\n",
       "      <td>95.487076</td>\n",
       "    </tr>\n",
       "    <tr>\n",
       "      <th>2011-12-31</th>\n",
       "      <td>84.059906</td>\n",
       "    </tr>\n",
       "    <tr>\n",
       "      <th>2012-12-31</th>\n",
       "      <td>104.792206</td>\n",
       "    </tr>\n",
       "    <tr>\n",
       "      <th>2013-12-31</th>\n",
       "      <td>207.063873</td>\n",
       "    </tr>\n",
       "    <tr>\n",
       "      <th>2014-12-31</th>\n",
       "      <td>115.470215</td>\n",
       "    </tr>\n",
       "  </tbody>\n",
       "</table>\n",
       "</div>"
      ],
      "text/plain": [
       "            Yearly Price Variation\n",
       "Date                              \n",
       "2010-12-31               95.487076\n",
       "2011-12-31               84.059906\n",
       "2012-12-31              104.792206\n",
       "2013-12-31              207.063873\n",
       "2014-12-31              115.470215"
      ]
     },
     "execution_count": 56,
     "metadata": {},
     "output_type": "execute_result"
    }
   ],
   "source": [
    "year_difference = google.groupby(pd.Grouper(freq = 'A')).max() - google.groupby(pd.Grouper(freq = 'A')).min()\n",
    "year_difference = pd.DataFrame(data = year_difference['Open'])\n",
    "year_difference.columns = ['Yearly Price Variation']\n",
    "year_difference.head()"
   ]
  },
  {
   "cell_type": "markdown",
   "id": "0798cafd-40f7-4141-b745-5b0c7432a4eb",
   "metadata": {},
   "source": [
    "### Plots\n",
    "* Visualize how stock price values change over specific periods of time.  \n",
    "In the first step I had to make Date as a column to use it to make charts."
   ]
  },
  {
   "cell_type": "code",
   "execution_count": 57,
   "id": "b553173c-e4d7-47ee-8856-5aa4e86865a1",
   "metadata": {},
   "outputs": [
    {
     "data": {
      "text/html": [
       "<div>\n",
       "<style scoped>\n",
       "    .dataframe tbody tr th:only-of-type {\n",
       "        vertical-align: middle;\n",
       "    }\n",
       "\n",
       "    .dataframe tbody tr th {\n",
       "        vertical-align: top;\n",
       "    }\n",
       "\n",
       "    .dataframe thead th {\n",
       "        text-align: right;\n",
       "    }\n",
       "</style>\n",
       "<table border=\"1\" class=\"dataframe\">\n",
       "  <thead>\n",
       "    <tr style=\"text-align: right;\">\n",
       "      <th></th>\n",
       "      <th>Date</th>\n",
       "      <th>Monthly Price Variation</th>\n",
       "    </tr>\n",
       "  </thead>\n",
       "  <tbody>\n",
       "    <tr>\n",
       "      <th>0</th>\n",
       "      <td>2010-01-31</td>\n",
       "      <td>44.438446</td>\n",
       "    </tr>\n",
       "    <tr>\n",
       "      <th>1</th>\n",
       "      <td>2010-02-28</td>\n",
       "      <td>10.077209</td>\n",
       "    </tr>\n",
       "    <tr>\n",
       "      <th>2</th>\n",
       "      <td>2010-03-31</td>\n",
       "      <td>29.359955</td>\n",
       "    </tr>\n",
       "    <tr>\n",
       "      <th>3</th>\n",
       "      <td>2010-04-30</td>\n",
       "      <td>31.491943</td>\n",
       "    </tr>\n",
       "    <tr>\n",
       "      <th>4</th>\n",
       "      <td>2010-05-31</td>\n",
       "      <td>29.076004</td>\n",
       "    </tr>\n",
       "  </tbody>\n",
       "</table>\n",
       "</div>"
      ],
      "text/plain": [
       "        Date  Monthly Price Variation\n",
       "0 2010-01-31                44.438446\n",
       "1 2010-02-28                10.077209\n",
       "2 2010-03-31                29.359955\n",
       "3 2010-04-30                31.491943\n",
       "4 2010-05-31                29.076004"
      ]
     },
     "execution_count": 57,
     "metadata": {},
     "output_type": "execute_result"
    }
   ],
   "source": [
    "google = google.reset_index()\n",
    "daily_shift = daily_shift.reset_index()\n",
    "month_difference = month_difference.reset_index()\n",
    "year_difference = year_difference.reset_index()\n",
    "month_difference.head()"
   ]
  },
  {
   "cell_type": "code",
   "execution_count": 60,
   "id": "004cd9fe-3e4e-467b-813c-74b6bf793e5d",
   "metadata": {},
   "outputs": [
    {
     "data": {
      "text/plain": [
       "Text(0.5, 0, 'Year')"
      ]
     },
     "execution_count": 60,
     "metadata": {},
     "output_type": "execute_result"
    },
    {
     "data": {
      "image/png": "[encoded data removed]",
      "text/plain": [
       "<Figure size 1080x360 with 3 Axes>"
      ]
     },
     "metadata": {
      "needs_background": "light"
     },
     "output_type": "display_data"
    }
   ],
   "source": [
    "fig, axes = plt.subplots(nrows =1, ncols = 3, figsize = (15,5))\n",
    "fig.suptitle('Prices Variations', size = 15)\n",
    "axes[0].plot('Date', 'Daily Price Variation', data = daily_shift)\n",
    "axes[0].set_title('Daily')\n",
    "axes[0].set_xlabel('Day')\n",
    "axes[1].plot('Date', 'Monthly Price Variation', data = month_difference)\n",
    "axes[1].set_title('Monthly')\n",
    "axes[1].set_xlabel('Month')\n",
    "axes[2].plot('Date', 'Yearly Price Variation', data = year_difference)\n",
    "axes[2].set_title('Yearly')\n",
    "axes[2].set_xlabel('Year')"
   ]
  }
 ],
 "metadata": {
  "kernelspec": {
   "display_name": "Python 3",
   "language": "python",
   "name": "python3"
  },
  "language_info": {
   "codemirror_mode": {
    "name": "ipython",
    "version": 3
   },
   "file_extension": ".py",
   "mimetype": "text/x-python",
   "name": "python",
   "nbconvert_exporter": "python",
   "pygments_lexer": "ipython3",
   "version": "3.8.8"
  }
 },
 "nbformat": 4,
 "nbformat_minor": 5
}
