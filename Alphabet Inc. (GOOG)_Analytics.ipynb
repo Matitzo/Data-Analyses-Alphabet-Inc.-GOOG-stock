{
 "cells": [
  {
   "cell_type": "code",
   "execution_count": 2,
   "id": "2bec801f-59af-411c-be65-d34ffdfb67d1",
   "metadata": {},
   "outputs": [],
   "source": [
    "import pandas_datareader.data as web\n",
    "import pandas as pd\n",
    "import matplotlib.pyplot as plt\n",
    "import numpy as np\n",
    "from sklearn.linear_model import LinearRegression"
   ]
  },
  {
   "cell_type": "markdown",
   "id": "4273fc63-f8bd-4f20-bba9-7d728cf26d6e",
   "metadata": {},
   "source": [
    "### Loading Data of Alphabet Inc. (GOOG) stock - Historical Data "
   ]
  },
  {
   "cell_type": "code",
   "execution_count": 3,
   "id": "fb661a23-f1eb-416a-8500-49a6c92add45",
   "metadata": {},
   "outputs": [
    {
     "data": {
      "text/html": [
       "<div>\n",
       "<style scoped>\n",
       "    .dataframe tbody tr th:only-of-type {\n",
       "        vertical-align: middle;\n",
       "    }\n",
       "\n",
       "    .dataframe tbody tr th {\n",
       "        vertical-align: top;\n",
       "    }\n",
       "\n",
       "    .dataframe thead th {\n",
       "        text-align: right;\n",
       "    }\n",
       "</style>\n",
       "<table border=\"1\" class=\"dataframe\">\n",
       "  <thead>\n",
       "    <tr style=\"text-align: right;\">\n",
       "      <th></th>\n",
       "      <th>High</th>\n",
       "      <th>Low</th>\n",
       "      <th>Open</th>\n",
       "      <th>Close</th>\n",
       "      <th>Adj Close</th>\n",
       "    </tr>\n",
       "    <tr>\n",
       "      <th>Date</th>\n",
       "      <th></th>\n",
       "      <th></th>\n",
       "      <th></th>\n",
       "      <th></th>\n",
       "      <th></th>\n",
       "    </tr>\n",
       "  </thead>\n",
       "  <tbody>\n",
       "    <tr>\n",
       "      <th>2014-03-27</th>\n",
       "      <td>28.322241</td>\n",
       "      <td>27.570307</td>\n",
       "      <td>28.322241</td>\n",
       "      <td>27.846546</td>\n",
       "      <td>27.846546</td>\n",
       "    </tr>\n",
       "    <tr>\n",
       "      <th>2014-03-28</th>\n",
       "      <td>28.243956</td>\n",
       "      <td>27.857019</td>\n",
       "      <td>27.983171</td>\n",
       "      <td>27.922838</td>\n",
       "      <td>27.922838</td>\n",
       "    </tr>\n",
       "    <tr>\n",
       "      <th>2014-03-31</th>\n",
       "      <td>28.272379</td>\n",
       "      <td>27.770258</td>\n",
       "      <td>28.266893</td>\n",
       "      <td>27.772251</td>\n",
       "      <td>27.772251</td>\n",
       "    </tr>\n",
       "    <tr>\n",
       "      <th>2014-04-01</th>\n",
       "      <td>28.344681</td>\n",
       "      <td>27.859013</td>\n",
       "      <td>27.859013</td>\n",
       "      <td>28.280355</td>\n",
       "      <td>28.280355</td>\n",
       "    </tr>\n",
       "    <tr>\n",
       "      <th>2014-04-02</th>\n",
       "      <td>30.158699</td>\n",
       "      <td>28.032537</td>\n",
       "      <td>29.917362</td>\n",
       "      <td>28.272379</td>\n",
       "      <td>28.272379</td>\n",
       "    </tr>\n",
       "  </tbody>\n",
       "</table>\n",
       "</div>"
      ],
      "text/plain": [
       "                 High        Low       Open      Close  Adj Close\n",
       "Date                                                             \n",
       "2014-03-27  28.322241  27.570307  28.322241  27.846546  27.846546\n",
       "2014-03-28  28.243956  27.857019  27.983171  27.922838  27.922838\n",
       "2014-03-31  28.272379  27.770258  28.266893  27.772251  27.772251\n",
       "2014-04-01  28.344681  27.859013  27.859013  28.280355  28.280355\n",
       "2014-04-02  30.158699  28.032537  29.917362  28.272379  28.272379"
      ]
     },
     "execution_count": 3,
     "metadata": {},
     "output_type": "execute_result"
    }
   ],
   "source": [
    "google = web.DataReader('GOOG', data_source = 'yahoo', start = '1/1/2010', end = '1/1/2022') # loading data\n",
    "google = google.drop('Volume', axis = 1) # deleting column Vol\n",
    "google.head()"
   ]
  },
  {
   "cell_type": "code",
   "execution_count": 4,
   "id": "328e692e-b050-467d-a898-fbdabed09494",
   "metadata": {},
   "outputs": [
    {
     "data": {
      "text/html": [
       "<div>\n",
       "<style scoped>\n",
       "    .dataframe tbody tr th:only-of-type {\n",
       "        vertical-align: middle;\n",
       "    }\n",
       "\n",
       "    .dataframe tbody tr th {\n",
       "        vertical-align: top;\n",
       "    }\n",
       "\n",
       "    .dataframe thead th {\n",
       "        text-align: right;\n",
       "    }\n",
       "</style>\n",
       "<table border=\"1\" class=\"dataframe\">\n",
       "  <thead>\n",
       "    <tr style=\"text-align: right;\">\n",
       "      <th></th>\n",
       "      <th>High</th>\n",
       "      <th>Low</th>\n",
       "      <th>Open</th>\n",
       "      <th>Close</th>\n",
       "      <th>Adj Close</th>\n",
       "      <th>Index_of_the_day</th>\n",
       "    </tr>\n",
       "    <tr>\n",
       "      <th>Date</th>\n",
       "      <th></th>\n",
       "      <th></th>\n",
       "      <th></th>\n",
       "      <th></th>\n",
       "      <th></th>\n",
       "      <th></th>\n",
       "    </tr>\n",
       "  </thead>\n",
       "  <tbody>\n",
       "    <tr>\n",
       "      <th>2014-03-27</th>\n",
       "      <td>28.322241</td>\n",
       "      <td>27.570307</td>\n",
       "      <td>28.322241</td>\n",
       "      <td>27.846546</td>\n",
       "      <td>27.846546</td>\n",
       "      <td>0</td>\n",
       "    </tr>\n",
       "    <tr>\n",
       "      <th>2014-03-28</th>\n",
       "      <td>28.243956</td>\n",
       "      <td>27.857019</td>\n",
       "      <td>27.983171</td>\n",
       "      <td>27.922838</td>\n",
       "      <td>27.922838</td>\n",
       "      <td>1</td>\n",
       "    </tr>\n",
       "    <tr>\n",
       "      <th>2014-03-31</th>\n",
       "      <td>28.272379</td>\n",
       "      <td>27.770258</td>\n",
       "      <td>28.266893</td>\n",
       "      <td>27.772251</td>\n",
       "      <td>27.772251</td>\n",
       "      <td>2</td>\n",
       "    </tr>\n",
       "    <tr>\n",
       "      <th>2014-04-01</th>\n",
       "      <td>28.344681</td>\n",
       "      <td>27.859013</td>\n",
       "      <td>27.859013</td>\n",
       "      <td>28.280355</td>\n",
       "      <td>28.280355</td>\n",
       "      <td>3</td>\n",
       "    </tr>\n",
       "    <tr>\n",
       "      <th>2014-04-02</th>\n",
       "      <td>30.158699</td>\n",
       "      <td>28.032537</td>\n",
       "      <td>29.917362</td>\n",
       "      <td>28.272379</td>\n",
       "      <td>28.272379</td>\n",
       "      <td>4</td>\n",
       "    </tr>\n",
       "  </tbody>\n",
       "</table>\n",
       "</div>"
      ],
      "text/plain": [
       "                 High        Low       Open      Close  Adj Close  \\\n",
       "Date                                                                \n",
       "2014-03-27  28.322241  27.570307  28.322241  27.846546  27.846546   \n",
       "2014-03-28  28.243956  27.857019  27.983171  27.922838  27.922838   \n",
       "2014-03-31  28.272379  27.770258  28.266893  27.772251  27.772251   \n",
       "2014-04-01  28.344681  27.859013  27.859013  28.280355  28.280355   \n",
       "2014-04-02  30.158699  28.032537  29.917362  28.272379  28.272379   \n",
       "\n",
       "            Index_of_the_day  \n",
       "Date                          \n",
       "2014-03-27                 0  \n",
       "2014-03-28                 1  \n",
       "2014-03-31                 2  \n",
       "2014-04-01                 3  \n",
       "2014-04-02                 4  "
      ]
     },
     "execution_count": 4,
     "metadata": {},
     "output_type": "execute_result"
    }
   ],
   "source": [
    "google['Index_of_the_day'] = range(0, len(google.index.values))\n",
    "google.head()"
   ]
  },
  {
   "cell_type": "code",
   "execution_count": 5,
   "id": "7ebab06e-b9ee-4f51-9b3f-d80ff70c6961",
   "metadata": {},
   "outputs": [
    {
     "data": {
      "text/plain": [
       "[<matplotlib.lines.Line2D at 0x23e1ac11b50>]"
      ]
     },
     "execution_count": 5,
     "metadata": {},
     "output_type": "execute_result"
    },
    {
     "data": {
      "image/png": "[encoded data removed]",
      "text/plain": [
       "<Figure size 432x288 with 1 Axes>"
      ]
     },
     "metadata": {
      "needs_background": "light"
     },
     "output_type": "display_data"
    }
   ],
   "source": [
    "fig = plt.figure()\n",
    "ax1 = fig.add_subplot()\n",
    "ax1.set_xlabel('Index of the day')\n",
    "ax1.set_ylabel('Price')\n",
    "ax1.set_title('Stock 2010 - 2022')\n",
    "ax1.plot('Index_of_the_day', 'Open', data = google)"
   ]
  },
  {
   "cell_type": "markdown",
   "id": "979dec27-3116-41b7-8aee-5290b80f7350",
   "metadata": {},
   "source": [
    "### Sampling Dataset"
   ]
  },
  {
   "cell_type": "code",
   "execution_count": 19,
   "id": "d1a7df19-655e-4a2d-afbb-bfa11cbe6262",
   "metadata": {},
   "outputs": [
    {
     "data": {
      "text/html": [
       "<div>\n",
       "<style scoped>\n",
       "    .dataframe tbody tr th:only-of-type {\n",
       "        vertical-align: middle;\n",
       "    }\n",
       "\n",
       "    .dataframe tbody tr th {\n",
       "        vertical-align: top;\n",
       "    }\n",
       "\n",
       "    .dataframe thead th {\n",
       "        text-align: right;\n",
       "    }\n",
       "</style>\n",
       "<table border=\"1\" class=\"dataframe\">\n",
       "  <thead>\n",
       "    <tr style=\"text-align: right;\">\n",
       "      <th></th>\n",
       "      <th>High</th>\n",
       "      <th>Low</th>\n",
       "      <th>Open</th>\n",
       "      <th>Close</th>\n",
       "      <th>Adj Close</th>\n",
       "      <th>Index_of_the_day</th>\n",
       "    </tr>\n",
       "    <tr>\n",
       "      <th>Date</th>\n",
       "      <th></th>\n",
       "      <th></th>\n",
       "      <th></th>\n",
       "      <th></th>\n",
       "      <th></th>\n",
       "      <th></th>\n",
       "    </tr>\n",
       "  </thead>\n",
       "  <tbody>\n",
       "    <tr>\n",
       "      <th>2017-03-15</th>\n",
       "      <td>848.630005</td>\n",
       "      <td>840.770020</td>\n",
       "      <td>847.590027</td>\n",
       "      <td>847.200012</td>\n",
       "      <td>847.200012</td>\n",
       "      <td>1811</td>\n",
       "    </tr>\n",
       "    <tr>\n",
       "      <th>2021-03-04</th>\n",
       "      <td>2089.239990</td>\n",
       "      <td>2020.270020</td>\n",
       "      <td>2023.369995</td>\n",
       "      <td>2049.090088</td>\n",
       "      <td>2049.090088</td>\n",
       "      <td>2810</td>\n",
       "    </tr>\n",
       "    <tr>\n",
       "      <th>2011-04-05</th>\n",
       "      <td>289.659271</td>\n",
       "      <td>281.783813</td>\n",
       "      <td>289.455048</td>\n",
       "      <td>283.482452</td>\n",
       "      <td>283.482452</td>\n",
       "      <td>316</td>\n",
       "    </tr>\n",
       "    <tr>\n",
       "      <th>2012-11-12</th>\n",
       "      <td>333.649414</td>\n",
       "      <td>329.201080</td>\n",
       "      <td>330.635681</td>\n",
       "      <td>331.706696</td>\n",
       "      <td>331.706696</td>\n",
       "      <td>720</td>\n",
       "    </tr>\n",
       "    <tr>\n",
       "      <th>2010-09-03</th>\n",
       "      <td>235.058945</td>\n",
       "      <td>232.847229</td>\n",
       "      <td>234.381485</td>\n",
       "      <td>234.271896</td>\n",
       "      <td>234.271896</td>\n",
       "      <td>169</td>\n",
       "    </tr>\n",
       "  </tbody>\n",
       "</table>\n",
       "</div>"
      ],
      "text/plain": [
       "                   High          Low         Open        Close    Adj Close  \\\n",
       "Date                                                                          \n",
       "2017-03-15   848.630005   840.770020   847.590027   847.200012   847.200012   \n",
       "2021-03-04  2089.239990  2020.270020  2023.369995  2049.090088  2049.090088   \n",
       "2011-04-05   289.659271   281.783813   289.455048   283.482452   283.482452   \n",
       "2012-11-12   333.649414   329.201080   330.635681   331.706696   331.706696   \n",
       "2010-09-03   235.058945   232.847229   234.381485   234.271896   234.271896   \n",
       "\n",
       "            Index_of_the_day  \n",
       "Date                          \n",
       "2017-03-15              1811  \n",
       "2021-03-04              2810  \n",
       "2011-04-05               316  \n",
       "2012-11-12               720  \n",
       "2010-09-03               169  "
      ]
     },
     "execution_count": 19,
     "metadata": {},
     "output_type": "execute_result"
    }
   ],
   "source": [
    "one_hundred = google.sample(frac = 0.1, random_state = np.random.randint(100))\n",
    "one_hundred.head()"
   ]
  },
  {
   "cell_type": "code",
   "execution_count": 20,
   "id": "8147c6ee-b54c-47d5-8e38-2ce01361eea3",
   "metadata": {},
   "outputs": [
    {
     "data": {
      "text/html": [
       "<div>\n",
       "<style scoped>\n",
       "    .dataframe tbody tr th:only-of-type {\n",
       "        vertical-align: middle;\n",
       "    }\n",
       "\n",
       "    .dataframe tbody tr th {\n",
       "        vertical-align: top;\n",
       "    }\n",
       "\n",
       "    .dataframe thead th {\n",
       "        text-align: right;\n",
       "    }\n",
       "</style>\n",
       "<table border=\"1\" class=\"dataframe\">\n",
       "  <thead>\n",
       "    <tr style=\"text-align: right;\">\n",
       "      <th></th>\n",
       "      <th>High</th>\n",
       "      <th>Low</th>\n",
       "      <th>Open</th>\n",
       "      <th>Close</th>\n",
       "      <th>Adj Close</th>\n",
       "      <th>Index_of_the_day</th>\n",
       "    </tr>\n",
       "  </thead>\n",
       "  <tbody>\n",
       "    <tr>\n",
       "      <th>2010-01-19</th>\n",
       "      <td>294.107605</td>\n",
       "      <td>287.069000</td>\n",
       "      <td>289.514832</td>\n",
       "      <td>292.712830</td>\n",
       "      <td>292.712830</td>\n",
       "      <td>10</td>\n",
       "    </tr>\n",
       "    <tr>\n",
       "      <th>2010-01-26</th>\n",
       "      <td>273.773834</td>\n",
       "      <td>267.143677</td>\n",
       "      <td>267.980530</td>\n",
       "      <td>270.197235</td>\n",
       "      <td>270.197235</td>\n",
       "      <td>15</td>\n",
       "    </tr>\n",
       "    <tr>\n",
       "      <th>2010-02-04</th>\n",
       "      <td>267.995483</td>\n",
       "      <td>261.798706</td>\n",
       "      <td>267.497345</td>\n",
       "      <td>262.406433</td>\n",
       "      <td>262.406433</td>\n",
       "      <td>22</td>\n",
       "    </tr>\n",
       "    <tr>\n",
       "      <th>2010-02-05</th>\n",
       "      <td>265.753876</td>\n",
       "      <td>260.254517</td>\n",
       "      <td>263.213409</td>\n",
       "      <td>264.653015</td>\n",
       "      <td>264.653015</td>\n",
       "      <td>23</td>\n",
       "    </tr>\n",
       "    <tr>\n",
       "      <th>2010-02-17</th>\n",
       "      <td>270.685394</td>\n",
       "      <td>267.801208</td>\n",
       "      <td>269.988007</td>\n",
       "      <td>268.100098</td>\n",
       "      <td>268.100098</td>\n",
       "      <td>30</td>\n",
       "    </tr>\n",
       "  </tbody>\n",
       "</table>\n",
       "</div>"
      ],
      "text/plain": [
       "                  High         Low        Open       Close   Adj Close  \\\n",
       "2010-01-19  294.107605  287.069000  289.514832  292.712830  292.712830   \n",
       "2010-01-26  273.773834  267.143677  267.980530  270.197235  270.197235   \n",
       "2010-02-04  267.995483  261.798706  267.497345  262.406433  262.406433   \n",
       "2010-02-05  265.753876  260.254517  263.213409  264.653015  264.653015   \n",
       "2010-02-17  270.685394  267.801208  269.988007  268.100098  268.100098   \n",
       "\n",
       "            Index_of_the_day  \n",
       "2010-01-19                10  \n",
       "2010-01-26                15  \n",
       "2010-02-04                22  \n",
       "2010-02-05                23  \n",
       "2010-02-17                30  "
      ]
     },
     "execution_count": 20,
     "metadata": {},
     "output_type": "execute_result"
    }
   ],
   "source": [
    "one_hundred.index.name = None # deleting name of the index (Date)\n",
    "one_hundred = one_hundred.sort_values(by='Index_of_the_day', ascending = True)\n",
    "one_hundred.head()"
   ]
  },
  {
   "cell_type": "code",
   "execution_count": 21,
   "id": "de09736d-f6d6-4bc9-a2d3-1912076adba9",
   "metadata": {},
   "outputs": [
    {
     "data": {
      "text/plain": [
       "Text(0, 0.5, 'Price')"
      ]
     },
     "execution_count": 21,
     "metadata": {},
     "output_type": "execute_result"
    },
    {
     "data": {
      "image/png": "[encoded data removed]",
      "text/plain": [
       "<Figure size 432x288 with 1 Axes>"
      ]
     },
     "metadata": {
      "needs_background": "light"
     },
     "output_type": "display_data"
    }
   ],
   "source": [
    "axes = one_hundred.plot('Index_of_the_day', 'Open', legend = False, title = 'Sampled dataset')\n",
    "axes.set_ylabel('Price')"
   ]
  },
  {
   "cell_type": "code",
   "execution_count": 22,
   "id": "5a56a13e-8f39-4da5-8393-6fc4caa05774",
   "metadata": {},
   "outputs": [
    {
     "data": {
      "text/plain": [
       "Text(0.5, 1.0, 'Sampled Plot')"
      ]
     },
     "execution_count": 22,
     "metadata": {},
     "output_type": "execute_result"
    },
    {
     "data": {
      "image/png": "[encoded data removed]",
      "text/plain": [
       "<Figure size 720x360 with 2 Axes>"
      ]
     },
     "metadata": {
      "needs_background": "light"
     },
     "output_type": "display_data"
    }
   ],
   "source": [
    "fig, axes = plt.subplots(nrows = 1, ncols = 2, figsize = (10, 5))\n",
    "axes[0].plot('Index_of_the_day', 'Open', data = google)\n",
    "axes[0].set_title('Orginal plot')\n",
    "axes[1].plot('Index_of_the_day', 'Open', data = one_hundred)\n",
    "axes[1].set_title('Sampled Plot')"
   ]
  },
  {
   "cell_type": "markdown",
   "id": "2346cdc0-e170-4b1f-8d41-e1ae0ef940a6",
   "metadata": {},
   "source": [
    "### Rolling Mean"
   ]
  },
  {
   "cell_type": "code",
   "execution_count": 23,
   "id": "6e7a8e73-169b-41f0-935a-cd8525e2cd23",
   "metadata": {},
   "outputs": [
    {
     "data": {
      "text/html": [
       "<div>\n",
       "<style scoped>\n",
       "    .dataframe tbody tr th:only-of-type {\n",
       "        vertical-align: middle;\n",
       "    }\n",
       "\n",
       "    .dataframe tbody tr th {\n",
       "        vertical-align: top;\n",
       "    }\n",
       "\n",
       "    .dataframe thead th {\n",
       "        text-align: right;\n",
       "    }\n",
       "</style>\n",
       "<table border=\"1\" class=\"dataframe\">\n",
       "  <thead>\n",
       "    <tr style=\"text-align: right;\">\n",
       "      <th></th>\n",
       "      <th>Date</th>\n",
       "      <th>High</th>\n",
       "      <th>Low</th>\n",
       "      <th>Open</th>\n",
       "      <th>Close</th>\n",
       "      <th>Adj Close</th>\n",
       "      <th>Index_of_the_day</th>\n",
       "    </tr>\n",
       "  </thead>\n",
       "  <tbody>\n",
       "    <tr>\n",
       "      <th>0</th>\n",
       "      <td>2010-01-04</td>\n",
       "      <td>313.579620</td>\n",
       "      <td>310.954468</td>\n",
       "      <td>312.304413</td>\n",
       "      <td>312.204773</td>\n",
       "      <td>312.204773</td>\n",
       "      <td>0</td>\n",
       "    </tr>\n",
       "    <tr>\n",
       "      <th>1</th>\n",
       "      <td>2010-01-05</td>\n",
       "      <td>312.747742</td>\n",
       "      <td>309.609497</td>\n",
       "      <td>312.418976</td>\n",
       "      <td>310.829926</td>\n",
       "      <td>310.829926</td>\n",
       "      <td>1</td>\n",
       "    </tr>\n",
       "    <tr>\n",
       "      <th>2</th>\n",
       "      <td>2010-01-06</td>\n",
       "      <td>311.761444</td>\n",
       "      <td>302.047852</td>\n",
       "      <td>311.761444</td>\n",
       "      <td>302.994293</td>\n",
       "      <td>302.994293</td>\n",
       "      <td>2</td>\n",
       "    </tr>\n",
       "    <tr>\n",
       "      <th>3</th>\n",
       "      <td>2010-01-07</td>\n",
       "      <td>303.861053</td>\n",
       "      <td>295.218445</td>\n",
       "      <td>303.562164</td>\n",
       "      <td>295.940735</td>\n",
       "      <td>295.940735</td>\n",
       "      <td>3</td>\n",
       "    </tr>\n",
       "    <tr>\n",
       "      <th>4</th>\n",
       "      <td>2010-01-08</td>\n",
       "      <td>300.498657</td>\n",
       "      <td>293.455048</td>\n",
       "      <td>294.894653</td>\n",
       "      <td>299.885956</td>\n",
       "      <td>299.885956</td>\n",
       "      <td>4</td>\n",
       "    </tr>\n",
       "  </tbody>\n",
       "</table>\n",
       "</div>"
      ],
      "text/plain": [
       "        Date        High         Low        Open       Close   Adj Close  \\\n",
       "0 2010-01-04  313.579620  310.954468  312.304413  312.204773  312.204773   \n",
       "1 2010-01-05  312.747742  309.609497  312.418976  310.829926  310.829926   \n",
       "2 2010-01-06  311.761444  302.047852  311.761444  302.994293  302.994293   \n",
       "3 2010-01-07  303.861053  295.218445  303.562164  295.940735  295.940735   \n",
       "4 2010-01-08  300.498657  293.455048  294.894653  299.885956  299.885956   \n",
       "\n",
       "   Index_of_the_day  \n",
       "0                 0  \n",
       "1                 1  \n",
       "2                 2  \n",
       "3                 3  \n",
       "4                 4  "
      ]
     },
     "execution_count": 23,
     "metadata": {},
     "output_type": "execute_result"
    }
   ],
   "source": [
    "google = google.reset_index() # adding index as new col\n",
    "google.head()"
   ]
  },
  {
   "cell_type": "code",
   "execution_count": 24,
   "id": "09acfe82-6fd8-434d-a638-8a2bd715c07a",
   "metadata": {},
   "outputs": [
    {
     "data": {
      "text/plain": [
       "Date                2010-10-18 00:00:00\n",
       "High                         308.687958\n",
       "Low                          299.153687\n",
       "Open                         299.153687\n",
       "Close                         307.70166\n",
       "Adj Close                     307.70166\n",
       "Index_of_the_day                    199\n",
       "Rolling_Mean                 258.800552\n",
       "Name: 199, dtype: object"
      ]
     },
     "execution_count": 24,
     "metadata": {},
     "output_type": "execute_result"
    }
   ],
   "source": [
    "google['Rolling_Mean'] = google['Open'].rolling(window = 200).mean() # every 200 position has assigned mean value 199:0-199, 200:1-200 etc. it starts in 199 index so before 199 there are NaNs\n",
    "google.iloc[199]"
   ]
  },
  {
   "cell_type": "code",
   "execution_count": 25,
   "id": "df26100c-bc5f-4699-bb5f-5cdef36331f7",
   "metadata": {},
   "outputs": [
    {
     "data": {
      "text/plain": [
       "Text(0.5, 1.0, 'Smoothed Plot (Rolling_Mean)')"
      ]
     },
     "execution_count": 25,
     "metadata": {},
     "output_type": "execute_result"
    },
    {
     "data": {
      "image/png": "[encoded data removed]",
      "text/plain": [
       "<Figure size 720x360 with 3 Axes>"
      ]
     },
     "metadata": {
      "needs_background": "light"
     },
     "output_type": "display_data"
    }
   ],
   "source": [
    "fig, axes = plt.subplots(nrows = 1, ncols = 3, figsize = (10, 5))\n",
    "axes[0].plot('Index_of_the_day', 'Open', data = google)\n",
    "axes[0].set_title('Orginal plot')\n",
    "axes[1].plot('Index_of_the_day', 'Open', data = one_hundred)\n",
    "axes[1].set_title('Sampled Plot')\n",
    "axes[2].plot('Index_of_the_day', 'Rolling_Mean', data = google)\n",
    "axes[2].set_title('Smoothed Plot (Rolling_Mean)')"
   ]
  },
  {
   "cell_type": "code",
   "execution_count": 26,
   "id": "d9b66742-aa03-460e-8e86-6f532a4d0843",
   "metadata": {},
   "outputs": [
    {
     "data": {
      "text/plain": [
       "<matplotlib.legend.Legend at 0x23bb26e1b80>"
      ]
     },
     "execution_count": 26,
     "metadata": {},
     "output_type": "execute_result"
    },
    {
     "data": {
      "image/png": "[encoded data removed]",
      "text/plain": [
       "<Figure size 432x288 with 1 Axes>"
      ]
     },
     "metadata": {
      "needs_background": "light"
     },
     "output_type": "display_data"
    }
   ],
   "source": [
    "fig = plt.figure()\n",
    "ax = fig.add_subplot()\n",
    "ax.plot(google['Date'], google['Rolling_Mean'], color = (0,0,0), linewidth = 3, label = 'Smoothed')\n",
    "ax.plot(google['Date'], google['Open'], color = (0,1,0), label = 'Orginal')\n",
    "ax.set_title('Orginal vs Smoothed Plot')\n",
    "ax.set_xlabel('Date')\n",
    "ax.set_ylabel('Price')\n",
    "ax.legend(loc = 'upper left')"
   ]
  },
  {
   "cell_type": "code",
   "execution_count": 27,
   "id": "7b961412-da3e-485c-ac51-4362929065ea",
   "metadata": {},
   "outputs": [
    {
     "data": {
      "text/html": [
       "<div>\n",
       "<style scoped>\n",
       "    .dataframe tbody tr th:only-of-type {\n",
       "        vertical-align: middle;\n",
       "    }\n",
       "\n",
       "    .dataframe tbody tr th {\n",
       "        vertical-align: top;\n",
       "    }\n",
       "\n",
       "    .dataframe thead th {\n",
       "        text-align: right;\n",
       "    }\n",
       "</style>\n",
       "<table border=\"1\" class=\"dataframe\">\n",
       "  <thead>\n",
       "    <tr style=\"text-align: right;\">\n",
       "      <th></th>\n",
       "      <th>Date</th>\n",
       "      <th>High</th>\n",
       "      <th>Low</th>\n",
       "      <th>Open</th>\n",
       "      <th>Close</th>\n",
       "      <th>Adj Close</th>\n",
       "      <th>Index_of_the_day</th>\n",
       "      <th>Rolling_Mean</th>\n",
       "    </tr>\n",
       "  </thead>\n",
       "  <tbody>\n",
       "    <tr>\n",
       "      <th>500</th>\n",
       "      <td>2011-12-27</td>\n",
       "      <td>321.041656</td>\n",
       "      <td>314.819977</td>\n",
       "      <td>314.844879</td>\n",
       "      <td>318.929565</td>\n",
       "      <td>318.929565</td>\n",
       "      <td>500</td>\n",
       "      <td>277.779414</td>\n",
       "    </tr>\n",
       "    <tr>\n",
       "      <th>501</th>\n",
       "      <td>2011-12-28</td>\n",
       "      <td>321.295715</td>\n",
       "      <td>317.858582</td>\n",
       "      <td>320.174896</td>\n",
       "      <td>318.655609</td>\n",
       "      <td>318.655609</td>\n",
       "      <td>501</td>\n",
       "      <td>277.991743</td>\n",
       "    </tr>\n",
       "    <tr>\n",
       "      <th>502</th>\n",
       "      <td>2011-12-29</td>\n",
       "      <td>320.299438</td>\n",
       "      <td>316.414001</td>\n",
       "      <td>319.547272</td>\n",
       "      <td>320.000549</td>\n",
       "      <td>320.000549</td>\n",
       "      <td>502</td>\n",
       "      <td>278.174757</td>\n",
       "    </tr>\n",
       "    <tr>\n",
       "      <th>503</th>\n",
       "      <td>2011-12-30</td>\n",
       "      <td>322.172424</td>\n",
       "      <td>319.811279</td>\n",
       "      <td>319.811279</td>\n",
       "      <td>321.744019</td>\n",
       "      <td>321.744019</td>\n",
       "      <td>503</td>\n",
       "      <td>278.367884</td>\n",
       "    </tr>\n",
       "    <tr>\n",
       "      <th>504</th>\n",
       "      <td>2012-01-03</td>\n",
       "      <td>332.827484</td>\n",
       "      <td>324.966949</td>\n",
       "      <td>325.250885</td>\n",
       "      <td>331.462585</td>\n",
       "      <td>331.462585</td>\n",
       "      <td>504</td>\n",
       "      <td>278.587809</td>\n",
       "    </tr>\n",
       "  </tbody>\n",
       "</table>\n",
       "</div>"
      ],
      "text/plain": [
       "          Date        High         Low        Open       Close   Adj Close  \\\n",
       "500 2011-12-27  321.041656  314.819977  314.844879  318.929565  318.929565   \n",
       "501 2011-12-28  321.295715  317.858582  320.174896  318.655609  318.655609   \n",
       "502 2011-12-29  320.299438  316.414001  319.547272  320.000549  320.000549   \n",
       "503 2011-12-30  322.172424  319.811279  319.811279  321.744019  321.744019   \n",
       "504 2012-01-03  332.827484  324.966949  325.250885  331.462585  331.462585   \n",
       "\n",
       "     Index_of_the_day  Rolling_Mean  \n",
       "500               500    277.779414  \n",
       "501               501    277.991743  \n",
       "502               502    278.174757  \n",
       "503               503    278.367884  \n",
       "504               504    278.587809  "
      ]
     },
     "execution_count": 27,
     "metadata": {},
     "output_type": "execute_result"
    }
   ],
   "source": [
    "filt_google = google[(google['Index_of_the_day'] >= 500) & (google['Index_of_the_day'] < 2000)]\n",
    "filt_google.head()"
   ]
  },
  {
   "cell_type": "markdown",
   "id": "4c63589b-2543-4f03-8508-8b328c93a3db",
   "metadata": {},
   "source": [
    "### Linear regression - Predictions"
   ]
  },
  {
   "cell_type": "code",
   "execution_count": 28,
   "id": "f510fafe-a927-4acc-a3e8-3e885c0c9dc0",
   "metadata": {},
   "outputs": [],
   "source": [
    "from sklearn.linear_model import LinearRegression"
   ]
  },
  {
   "cell_type": "code",
   "execution_count": 44,
   "id": "940f02f7-e1e2-43e5-9cc9-a91987f4e123",
   "metadata": {},
   "outputs": [
    {
     "name": "stdout",
     "output_type": "stream",
     "text": [
      "[[0.41367918]]\n",
      "y =  0.41 x +  31.38\n"
     ]
    }
   ],
   "source": [
    "model = LinearRegression().fit(filt_google[['Index_of_the_day']], filt_google[['Rolling_Mean']]) # columns in lists because we need DataFrame data type, not series\n",
    "m = model.coef_[0]  # y = mx + b // coef_ calculates coefficient m\n",
    "b = model.intercept_ # intercept_ calculates coefficient b\n",
    "print('y = ', round(m[0],2), 'x + ', round(b[0],2))"
   ]
  },
  {
   "cell_type": "code",
   "execution_count": 30,
   "id": "0937caf4-cf28-4cc4-a7da-af2d379c28fd",
   "metadata": {},
   "outputs": [
    {
     "data": {
      "text/plain": [
       "pandas.core.frame.DataFrame"
      ]
     },
     "execution_count": 30,
     "metadata": {},
     "output_type": "execute_result"
    }
   ],
   "source": [
    "type(filt_google[['Index_of_the_day']])"
   ]
  },
  {
   "cell_type": "code",
   "execution_count": 31,
   "id": "5f481016-a27d-4fdf-82ca-1d649ac6811b",
   "metadata": {},
   "outputs": [
    {
     "data": {
      "text/plain": [
       "array([[238.22347839],\n",
       "       [238.63715757],\n",
       "       [239.05083674],\n",
       "       [239.46451592],\n",
       "       [239.87819509],\n",
       "       [240.29187427],\n",
       "       [240.70555344],\n",
       "       [241.11923262],\n",
       "       [241.5329118 ],\n",
       "       [241.94659097]])"
      ]
     },
     "execution_count": 31,
     "metadata": {},
     "output_type": "execute_result"
    }
   ],
   "source": [
    "predictions = model.predict(filt_google[['Index_of_the_day']])\n",
    "predictions[0:10]"
   ]
  },
  {
   "cell_type": "code",
   "execution_count": 32,
   "id": "a03f85cd-8524-40b4-b827-d189cc2a13fc",
   "metadata": {},
   "outputs": [
    {
     "data": {
      "text/html": [
       "<div>\n",
       "<style scoped>\n",
       "    .dataframe tbody tr th:only-of-type {\n",
       "        vertical-align: middle;\n",
       "    }\n",
       "\n",
       "    .dataframe tbody tr th {\n",
       "        vertical-align: top;\n",
       "    }\n",
       "\n",
       "    .dataframe thead th {\n",
       "        text-align: right;\n",
       "    }\n",
       "</style>\n",
       "<table border=\"1\" class=\"dataframe\">\n",
       "  <thead>\n",
       "    <tr style=\"text-align: right;\">\n",
       "      <th></th>\n",
       "      <th>Pred</th>\n",
       "    </tr>\n",
       "  </thead>\n",
       "  <tbody>\n",
       "    <tr>\n",
       "      <th>500</th>\n",
       "      <td>238.223478</td>\n",
       "    </tr>\n",
       "    <tr>\n",
       "      <th>501</th>\n",
       "      <td>238.637158</td>\n",
       "    </tr>\n",
       "    <tr>\n",
       "      <th>502</th>\n",
       "      <td>239.050837</td>\n",
       "    </tr>\n",
       "    <tr>\n",
       "      <th>503</th>\n",
       "      <td>239.464516</td>\n",
       "    </tr>\n",
       "    <tr>\n",
       "      <th>504</th>\n",
       "      <td>239.878195</td>\n",
       "    </tr>\n",
       "  </tbody>\n",
       "</table>\n",
       "</div>"
      ],
      "text/plain": [
       "           Pred\n",
       "500  238.223478\n",
       "501  238.637158\n",
       "502  239.050837\n",
       "503  239.464516\n",
       "504  239.878195"
      ]
     },
     "execution_count": 32,
     "metadata": {},
     "output_type": "execute_result"
    }
   ],
   "source": [
    "predictions = pd.DataFrame(data = predictions, index = filt_google.index.values, columns = ['Pred'])\n",
    "predictions.head()"
   ]
  },
  {
   "cell_type": "code",
   "execution_count": 33,
   "id": "c5694c17-140a-4018-a574-13637291545f",
   "metadata": {},
   "outputs": [
    {
     "data": {
      "text/html": [
       "<div>\n",
       "<style scoped>\n",
       "    .dataframe tbody tr th:only-of-type {\n",
       "        vertical-align: middle;\n",
       "    }\n",
       "\n",
       "    .dataframe tbody tr th {\n",
       "        vertical-align: top;\n",
       "    }\n",
       "\n",
       "    .dataframe thead th {\n",
       "        text-align: right;\n",
       "    }\n",
       "</style>\n",
       "<table border=\"1\" class=\"dataframe\">\n",
       "  <thead>\n",
       "    <tr style=\"text-align: right;\">\n",
       "      <th></th>\n",
       "      <th>Date</th>\n",
       "      <th>High</th>\n",
       "      <th>Low</th>\n",
       "      <th>Open</th>\n",
       "      <th>Close</th>\n",
       "      <th>Adj Close</th>\n",
       "      <th>Index_of_the_day</th>\n",
       "      <th>Rolling_Mean</th>\n",
       "      <th>Pred</th>\n",
       "    </tr>\n",
       "  </thead>\n",
       "  <tbody>\n",
       "    <tr>\n",
       "      <th>500</th>\n",
       "      <td>2011-12-27</td>\n",
       "      <td>321.041656</td>\n",
       "      <td>314.819977</td>\n",
       "      <td>314.844879</td>\n",
       "      <td>318.929565</td>\n",
       "      <td>318.929565</td>\n",
       "      <td>500</td>\n",
       "      <td>277.779414</td>\n",
       "      <td>238.223478</td>\n",
       "    </tr>\n",
       "    <tr>\n",
       "      <th>501</th>\n",
       "      <td>2011-12-28</td>\n",
       "      <td>321.295715</td>\n",
       "      <td>317.858582</td>\n",
       "      <td>320.174896</td>\n",
       "      <td>318.655609</td>\n",
       "      <td>318.655609</td>\n",
       "      <td>501</td>\n",
       "      <td>277.991743</td>\n",
       "      <td>238.637158</td>\n",
       "    </tr>\n",
       "    <tr>\n",
       "      <th>502</th>\n",
       "      <td>2011-12-29</td>\n",
       "      <td>320.299438</td>\n",
       "      <td>316.414001</td>\n",
       "      <td>319.547272</td>\n",
       "      <td>320.000549</td>\n",
       "      <td>320.000549</td>\n",
       "      <td>502</td>\n",
       "      <td>278.174757</td>\n",
       "      <td>239.050837</td>\n",
       "    </tr>\n",
       "    <tr>\n",
       "      <th>503</th>\n",
       "      <td>2011-12-30</td>\n",
       "      <td>322.172424</td>\n",
       "      <td>319.811279</td>\n",
       "      <td>319.811279</td>\n",
       "      <td>321.744019</td>\n",
       "      <td>321.744019</td>\n",
       "      <td>503</td>\n",
       "      <td>278.367884</td>\n",
       "      <td>239.464516</td>\n",
       "    </tr>\n",
       "    <tr>\n",
       "      <th>504</th>\n",
       "      <td>2012-01-03</td>\n",
       "      <td>332.827484</td>\n",
       "      <td>324.966949</td>\n",
       "      <td>325.250885</td>\n",
       "      <td>331.462585</td>\n",
       "      <td>331.462585</td>\n",
       "      <td>504</td>\n",
       "      <td>278.587809</td>\n",
       "      <td>239.878195</td>\n",
       "    </tr>\n",
       "  </tbody>\n",
       "</table>\n",
       "</div>"
      ],
      "text/plain": [
       "          Date        High         Low        Open       Close   Adj Close  \\\n",
       "500 2011-12-27  321.041656  314.819977  314.844879  318.929565  318.929565   \n",
       "501 2011-12-28  321.295715  317.858582  320.174896  318.655609  318.655609   \n",
       "502 2011-12-29  320.299438  316.414001  319.547272  320.000549  320.000549   \n",
       "503 2011-12-30  322.172424  319.811279  319.811279  321.744019  321.744019   \n",
       "504 2012-01-03  332.827484  324.966949  325.250885  331.462585  331.462585   \n",
       "\n",
       "     Index_of_the_day  Rolling_Mean        Pred  \n",
       "500               500    277.779414  238.223478  \n",
       "501               501    277.991743  238.637158  \n",
       "502               502    278.174757  239.050837  \n",
       "503               503    278.367884  239.464516  \n",
       "504               504    278.587809  239.878195  "
      ]
     },
     "execution_count": 33,
     "metadata": {},
     "output_type": "execute_result"
    }
   ],
   "source": [
    "joined_df = filt_google.join(predictions, how = 'inner')\n",
    "joined_df.head()"
   ]
  },
  {
   "cell_type": "code",
   "execution_count": 34,
   "id": "b1ed244f-85e2-4600-84ad-a867ca6bf873",
   "metadata": {},
   "outputs": [
    {
     "data": {
      "text/plain": [
       "<matplotlib.legend.Legend at 0x23bb2793d00>"
      ]
     },
     "execution_count": 34,
     "metadata": {},
     "output_type": "execute_result"
    },
    {
     "data": {
      "image/png": "[encoded data removed]",
      "text/plain": [
       "<Figure size 432x288 with 1 Axes>"
      ]
     },
     "metadata": {
      "needs_background": "light"
     },
     "output_type": "display_data"
    }
   ],
   "source": [
    "fig = plt.figure()\n",
    "ax = fig.add_subplot()\n",
    "ax.plot(joined_df['Index_of_the_day'], joined_df['Rolling_Mean'], color = (0,0,0), linewidth = 3, label = 'Smoothed')\n",
    "ax.plot(joined_df['Index_of_the_day'], joined_df['Pred'], color = (0,1,0), label = 'Predictions')\n",
    "ax.set_title('Predictions (Linear Regression) vs Smoothed Plot')\n",
    "ax.set_xlabel('Index_of_the_day')\n",
    "ax.set_ylabel('Price')\n",
    "ax.legend(loc = 'upper left')"
   ]
  },
  {
   "cell_type": "code",
   "execution_count": 48,
   "id": "9edf4f99-dcbe-46f8-bbc9-4dbc34154b99",
   "metadata": {},
   "outputs": [
    {
     "data": {
      "text/plain": [
       "0.9720673506060259"
      ]
     },
     "execution_count": 48,
     "metadata": {},
     "output_type": "execute_result"
    }
   ],
   "source": [
    "import sklearn\n",
    "\n",
    "r_squared = sklearn.metrics.r2_score(joined_df['Rolling_Mean'], joined_df['Pred'], multioutput = 'uniform_average')\n",
    "r_squared"
   ]
  }
 ],
 "metadata": {
  "kernelspec": {
   "display_name": "Python 3",
   "language": "python",
   "name": "python3"
  },
  "language_info": {
   "codemirror_mode": {
    "name": "ipython",
    "version": 3
   },
   "file_extension": ".py",
   "mimetype": "text/x-python",
   "name": "python",
   "nbconvert_exporter": "python",
   "pygments_lexer": "ipython3",
   "version": "3.8.8"
  }
 },
 "nbformat": 4,
 "nbformat_minor": 5
}
